{
 "cells": [
  {
   "cell_type": "markdown",
   "id": "79cfd318-350f-4f2b-b985-0f97ab8a119b",
   "metadata": {},
   "source": [
    "### Predicting Chances of Admission for Graduate Programs in Universities.\n",
    "\n",
    "### Our Objective:\n",
    "* Determine the most important factors that contribute to a student's chance of admission, and select the most accurate model to predict the probability of admission.\n",
    "* The predicted output gives them a fair idea about their admission chances in a particular university. \n",
    "\n",
    "### Getting to know the dataset!\n",
    "GA dataset contains various paraameters which are important for admission into graduate programs in universities. The features included are :\n",
    "* GRE Scores ( out of 340 ).\n",
    "* TOEFL Scores ( out of 120 ).\n",
    "* University Rating ( out of 5 ).\n",
    "* Statement of Purpose and Letter of Recommendation Strength ( out of 5 ).\n",
    "* Undergraduate GPA ( out of 10 ).\n",
    "* Research Experience ( either 0 or 1 ).\n",
    "* Chance of Admit ( ranging from 0 to 1 ).\n",
    "\n",
    "### Approach\n",
    "* Explore our data to check for imbalance and missing values.\n",
    "* Explore the correlation between various features in the dataset.\n",
    "* Split the preprocessed dataset into train and test sets respectively.\n",
    "* Create and Train a AdaBoost Classifier using mlpack.\n",
    "* We'll perform evaluation on our test set using metrics such as Accuracy, ROC AUC to quantify the performance of out model."
   ]
  },
  {
   "cell_type": "code",
   "execution_count": 1,
   "id": "8a06d8f1-23a7-44ef-80b1-0394a660e8d0",
   "metadata": {},
   "outputs": [],
   "source": [
    "!wget -q http://datasets.mlpack.org/Admission_Predict.csv"
   ]
  },
  {
   "cell_type": "code",
   "execution_count": 2,
   "id": "d9826954-4773-44d2-ac20-456ed54724d2",
   "metadata": {},
   "outputs": [],
   "source": [
    "// Import necessary library headers.\n",
    "#include <mlpack/xeus-cling.hpp>\n",
    "#include <mlpack.hpp>"
   ]
  },
  {
   "cell_type": "code",
   "execution_count": 3,
   "id": "0cd85eef-ee6d-49ff-bc71-66b9b629b9a3",
   "metadata": {},
   "outputs": [],
   "source": [
    "#define WITHOUT_NUMPY 1\n",
    "#include \"matplotlibcpp.h\"\n",
    "#include \"xwidgets/ximage.hpp\"\n",
    "#include \"../utils/plot.hpp\"\n",
    "\n",
    "namespace plt = matplotlibcpp;"
   ]
  },
  {
   "cell_type": "code",
   "execution_count": 4,
   "id": "10044eb8-a409-43df-bfec-6be549cfc877",
   "metadata": {},
   "outputs": [],
   "source": [
    "using namespace mlpack;"
   ]
  },
  {
   "cell_type": "code",
   "execution_count": 5,
   "id": "b6027532-5e6a-403c-a961-18bf74a3853b",
   "metadata": {},
   "outputs": [],
   "source": [
    "using namespace mlpack::data;"
   ]
  },
  {
   "cell_type": "code",
   "execution_count": 6,
   "id": "46d52743-e55e-4f9a-9aa3-9b4dad9924c7",
   "metadata": {},
   "outputs": [],
   "source": [
    "// Utility functions for evaluation metrics.\n",
    "double ComputeAccuracy(const arma::Row<size_t>& yPreds, const arma::Row<size_t>& yTrue)\n",
    "{\n",
    "    const size_t correct = arma::accu(yPreds == yTrue);\n",
    "    return (double)correct / (double)yTrue.n_elem;\n",
    "}"
   ]
  },
  {
   "cell_type": "code",
   "execution_count": 7,
   "id": "659a4713-c49e-454a-828a-81722ba2029a",
   "metadata": {},
   "outputs": [],
   "source": [
    "double ComputePrecision(const size_t truePos, const size_t falsePos)\n",
    "{\n",
    "    return (double)truePos / (double)(truePos + falsePos);\n",
    "}"
   ]
  },
  {
   "cell_type": "code",
   "execution_count": 8,
   "id": "2affa594-e479-449a-a801-f96e69780b84",
   "metadata": {},
   "outputs": [],
   "source": [
    "double ComputeRecall(const size_t truePos, const size_t falseNeg)\n",
    "{\n",
    "    return (double)truePos / (double)(truePos + falseNeg);\n",
    "}"
   ]
  },
  {
   "cell_type": "code",
   "execution_count": 9,
   "id": "cbb76f93-fd3f-44ea-a81b-09cd53fc8c64",
   "metadata": {},
   "outputs": [],
   "source": [
    "double ComputeF1Score(const size_t truePos, const size_t falsePos, const size_t falseNeg)\n",
    "{\n",
    "    double prec = ComputePrecision(truePos, falsePos);\n",
    "    double rec = ComputePrecision(truePos, falseNeg);\n",
    "    return 2 * (prec * rec) / (prec + rec);\n",
    "}"
   ]
  },
  {
   "cell_type": "code",
   "execution_count": 10,
   "id": "7aee5d70-3c61-4f64-89ef-449efa2a2822",
   "metadata": {},
   "outputs": [],
   "source": [
    "void ClassificationReport(const arma::Row<size_t>& yPreds, const arma::Row<size_t>& yTrue)\n",
    "{\n",
    "    arma::Row<size_t> uniqs = arma::unique(yTrue);\n",
    "    std::cout << std::setw(29) << \"precision\" << std::setw(15) << \"recall\" \n",
    "              << std::setw(15) << \"f1-score\" << std::setw(15) << \"support\" \n",
    "              << std::endl << std::endl;\n",
    "    \n",
    "    for(auto val: uniqs)\n",
    "    {\n",
    "        size_t truePos = arma::accu(yTrue == val && yPreds == val && yPreds == yTrue);\n",
    "        size_t falsePos = arma::accu(yPreds == val && yPreds != yTrue);\n",
    "        size_t trueNeg = arma::accu(yTrue != val && yPreds != val && yPreds == yTrue);\n",
    "        size_t falseNeg = arma::accu(yPreds != val && yPreds != yTrue);\n",
    "        \n",
    "        std::cout << std::setw(15) << val\n",
    "                  << std::setw(12) << std::setprecision(2) << ComputePrecision(truePos, falsePos) \n",
    "                  << std::setw(16) << std::setprecision(2) << ComputeRecall(truePos, falseNeg) \n",
    "                  << std::setw(14) << std::setprecision(2) << ComputeF1Score(truePos, falsePos, falseNeg)\n",
    "                  << std::setw(16) << truePos\n",
    "                  << std::endl;\n",
    "    }\n",
    "}"
   ]
  },
  {
   "cell_type": "code",
   "execution_count": 11,
   "id": "49acc160-0a32-4104-bc18-3205f444e99b",
   "metadata": {},
   "outputs": [],
   "source": [
    "! mkdir data && cat Admission_Predict.csv | sed 1d > ./data/Admission_Predict_trim.csv"
   ]
  },
  {
   "cell_type": "code",
   "execution_count": 12,
   "id": "14eecfdc-2201-4466-8211-d4a0e453ee50",
   "metadata": {},
   "outputs": [],
   "source": [
    "// Load the preprocessed dataset into armadillo matrix.\n",
    "arma::mat gradData;\n",
    "data::Load(\"./data/Admission_Predict_trim.csv\", gradData);"
   ]
  },
  {
   "cell_type": "code",
   "execution_count": 13,
   "id": "21e165d0-ead0-4cf8-b89e-d9e3154dbd67",
   "metadata": {},
   "outputs": [
    {
     "name": "stdout",
     "output_type": "stream",
     "text": [
      "    GRE Score  TOEFL Score University Rating  SOP          LOR         CGPA       Research  Chance of Admit\n",
      "   3.3700e+02   1.1800e+02   4.0000e+00   4.5000e+00   4.5000e+00   9.6500e+00   1.0000e+00   9.2000e-01\n",
      "   3.2400e+02   1.0700e+02   4.0000e+00   4.0000e+00   4.5000e+00   8.8700e+00   1.0000e+00   7.6000e-01\n",
      "   3.1600e+02   1.0400e+02   3.0000e+00   3.0000e+00   3.5000e+00   8.0000e+00   1.0000e+00   7.2000e-01\n",
      "   3.2200e+02   1.1000e+02   3.0000e+00   3.5000e+00   2.5000e+00   8.6700e+00   1.0000e+00   8.0000e-01\n",
      "   3.1400e+02   1.0300e+02   2.0000e+00   2.0000e+00   3.0000e+00   8.2100e+00            0   6.5000e-01\n",
      "   3.3000e+02   1.1500e+02   5.0000e+00   4.5000e+00   3.0000e+00   9.3400e+00   1.0000e+00   9.0000e-01\n",
      "\n"
     ]
    }
   ],
   "source": [
    "// Examine first 5 samples from our dataset.\n",
    "std::cout.precision(4);\n",
    "std::cout.setf(std::ios::fixed);\n",
    "std::cout << std::setw(13) << \"GRE Score\" << std::setw(13) << \"TOEFL Score\" \n",
    "          << std::setw(18) << \"University Rating\" << std::setw(5) << \"SOP\" \n",
    "          << std::setw(13) << \"LOR\" << std::setw(13) << \"CGPA\" \n",
    "          << std::setw(15) << \"Research\" << std::setw(17) << \"Chance of Admit\" \n",
    "          << std::endl;\n",
    "std::cout << gradData.submat(0, 0, gradData.n_rows-1, 5).t() << std::endl;"
   ]
  },
  {
   "cell_type": "code",
   "execution_count": 14,
   "id": "2949d267-2d60-4781-8027-95202d439d45",
   "metadata": {},
   "outputs": [
    {
     "data": {
      "application/vnd.jupyter.widget-view+json": {
       "model_id": "e0c840c7bae043a1a07bfc6224ec6c07",
       "version_major": 2,
       "version_minor": 0
      },
      "text/plain": [
       "A Jupyter widget with unique id: e0c840c7bae043a1a07bfc6224ec6c07"
      ]
     },
     "execution_count": 14,
     "metadata": {},
     "output_type": "execute_result"
    }
   ],
   "source": [
    "// Plot the correlation matrix as heatmap.\n",
    "HeatMapPlot(\"Admission_Predict.csv\", \"coolwarm\", \"Correlation Heatmap\", 1, 12, 12);\n",
    "auto img = xw::image_from_file(\"./plots/Correlation Heatmap.png\").finalize();\n",
    "img"
   ]
  },
  {
   "cell_type": "markdown",
   "id": "9365f508-5f2a-4f76-bae8-f70b3e8d79ab",
   "metadata": {},
   "source": [
    "As we can observe from the above heatmap, there is high correlation between the follwing features:\n",
    "\n",
    "* Chance of Admit & GRE Score.\n",
    "* Change of Admit & TOEFL Score.\n",
    "* Chance of Admit & CGPA.\n",
    "* GRE & TOEFL Score.\n",
    "\n",
    "We can infer that these are really important for the chance of admit function as it varies almost about linearly with the mentioned factors."
   ]
  },
  {
   "cell_type": "markdown",
   "id": "dfbb44c3-d832-4bf9-9c3c-6a1ba82a1504",
   "metadata": {},
   "source": [
    "### Exploratory Data Analysis\n",
    "#### Univariate Analysis"
   ]
  },
  {
   "cell_type": "code",
   "execution_count": 15,
   "id": "26c2ce54-7cef-42bb-be16-2b9ca4400c4c",
   "metadata": {},
   "outputs": [
    {
     "data": {
      "application/vnd.jupyter.widget-view+json": {
       "model_id": "506f046f4be54662827b8f3325251ae0",
       "version_major": 2,
       "version_minor": 0
      },
      "text/plain": [
       "A Jupyter widget with unique id: 506f046f4be54662827b8f3325251ae0"
      ]
     },
     "execution_count": 15,
     "metadata": {},
     "output_type": "execute_result"
    }
   ],
   "source": [
    "HistPlot(\"Admission_Predict.csv\", \"Chance of Admit\", \"Distribution of Chance of Admit\", 10, 6);\n",
    "auto img = xw::image_from_file(\"./plots/Distribution of Chance of Admit.png\").finalize();\n",
    "img"
   ]
  },
  {
   "cell_type": "markdown",
   "id": "265430c3-8883-4b47-8a7e-f8529176516b",
   "metadata": {},
   "source": [
    "* Most of the students have above 70% chance of admit.\n",
    "* More than 50% of students have above 72% chance of admit."
   ]
  },
  {
   "cell_type": "code",
   "execution_count": 16,
   "id": "acdb904f-1ff3-4453-8f68-887d51a6da12",
   "metadata": {},
   "outputs": [
    {
     "data": {
      "application/vnd.jupyter.widget-view+json": {
       "model_id": "1c489f9140e946b089b91adbcbdac843",
       "version_major": 2,
       "version_minor": 0
      },
      "text/plain": [
       "A Jupyter widget with unique id: 1c489f9140e946b089b91adbcbdac843"
      ]
     },
     "execution_count": 16,
     "metadata": {},
     "output_type": "execute_result"
    }
   ],
   "source": [
    "HistPlot(\"Admission_Predict.csv\", \"GRE Score\", \"GRE Score Distribution\", 10, 6);\n",
    "auto img = xw::image_from_file(\"./plots/GRE Score Distribution.png\").finalize();\n",
    "img"
   ]
  },
  {
   "cell_type": "markdown",
   "id": "65ae2df6-59aa-4305-bf8b-efe7b7ee1743",
   "metadata": {},
   "source": [
    "* Large Number of students have secured GRE score between 308 & 325.\n",
    "* More than 50% of students scored more than 316 in GRE."
   ]
  },
  {
   "cell_type": "code",
   "execution_count": 17,
   "id": "b2de57fe-a8b9-4c22-a65a-ab3a2a935442",
   "metadata": {},
   "outputs": [
    {
     "data": {
      "application/vnd.jupyter.widget-view+json": {
       "model_id": "6d5ef36bff3c45eb8275e8cd7fa627ec",
       "version_major": 2,
       "version_minor": 0
      },
      "text/plain": [
       "A Jupyter widget with unique id: 6d5ef36bff3c45eb8275e8cd7fa627ec"
      ]
     },
     "execution_count": 17,
     "metadata": {},
     "output_type": "execute_result"
    }
   ],
   "source": [
    "HistPlot(\"Admission_Predict.csv\", \"TOEFL Score\", \"TOEFL Score Distribution\", 10, 6);\n",
    "auto img = xw::image_from_file(\"./plots/TOEFL Score Distribution.png\").finalize();\n",
    "img"
   ]
  },
  {
   "cell_type": "markdown",
   "id": "d3ab53d6-9025-4fb5-91a4-f2ff0b1da288",
   "metadata": {},
   "source": [
    "* Large number of students have scored between 103 & 112 in TOEFL.\n",
    "* More than 50% of students scored more than 107 in TOEFL."
   ]
  },
  {
   "cell_type": "code",
   "execution_count": 18,
   "id": "037fd8fb-5907-40b8-a3d3-f8457d48d8ca",
   "metadata": {},
   "outputs": [
    {
     "data": {
      "application/vnd.jupyter.widget-view+json": {
       "model_id": "32e45629ec564c5395deb27134ba6997",
       "version_major": 2,
       "version_minor": 0
      },
      "text/plain": [
       "A Jupyter widget with unique id: 32e45629ec564c5395deb27134ba6997"
      ]
     },
     "execution_count": 18,
     "metadata": {},
     "output_type": "execute_result"
    }
   ],
   "source": [
    "CountPlot(\"Admission_Predict.csv\", \"University Rating\", \"\", \"Distribution of University Rating\", 8, 6);\n",
    "auto img = xw::image_from_file(\"./plots/Distribution of University Rating.png\").finalize();\n",
    "img"
   ]
  },
  {
   "cell_type": "markdown",
   "id": "17874cf4-a0b6-481b-bd2e-f666984142ec",
   "metadata": {},
   "source": [
    "* From the above plot we can infer that students from universities that have got a rating of 3 are more in number among those who have applied for MS program.\n",
    "* More than 50% of universities have rating of 3 and above."
   ]
  },
  {
   "cell_type": "code",
   "execution_count": 19,
   "id": "e11b751d-7da4-44a5-87b6-7fa48074a424",
   "metadata": {},
   "outputs": [
    {
     "data": {
      "application/vnd.jupyter.widget-view+json": {
       "model_id": "57172550247f489aa52ccd3ee6339ade",
       "version_major": 2,
       "version_minor": 0
      },
      "text/plain": [
       "A Jupyter widget with unique id: 57172550247f489aa52ccd3ee6339ade"
      ]
     },
     "execution_count": 19,
     "metadata": {},
     "output_type": "execute_result"
    }
   ],
   "source": [
    "CountPlot(\"Admission_Predict.csv\", \"SOP\", \"\", \"Distribution of SOP\", 8, 6);\n",
    "auto img = xw::image_from_file(\"./plots/Distribution of SOP.png\").finalize();\n",
    "img"
   ]
  },
  {
   "cell_type": "markdown",
   "id": "a08d474d-d25c-4f26-ac32-f197f598a68b",
   "metadata": {},
   "source": [
    "* From the above plot we can infer that students with SOP score of 4 are highest in number.\n",
    "* Large number of students have SOP score ranging between 2.5 to 4.\n",
    "* More than 50% of students have SOP scores of 3.5 and above."
   ]
  },
  {
   "cell_type": "code",
   "execution_count": 20,
   "id": "840ed16b-cd25-4201-996e-5568f711e70a",
   "metadata": {},
   "outputs": [
    {
     "data": {
      "application/vnd.jupyter.widget-view+json": {
       "model_id": "f75c2cc4729d4a639df6286e0d4410a8",
       "version_major": 2,
       "version_minor": 0
      },
      "text/plain": [
       "A Jupyter widget with unique id: f75c2cc4729d4a639df6286e0d4410a8"
      ]
     },
     "execution_count": 20,
     "metadata": {},
     "output_type": "execute_result"
    }
   ],
   "source": [
    "CountPlot(\"Admission_Predict.csv\", \"LOR\", \"\", \"Distribution of LOR\", 8, 6);\n",
    "auto img = xw::image_from_file(\"./plots/Distribution of LOR.png\").finalize();\n",
    "img"
   ]
  },
  {
   "cell_type": "markdown",
   "id": "1c8bc07a-19e3-45db-8f9c-5bf465a19abc",
   "metadata": {},
   "source": [
    "* From the above plot we can infer that the studetnts with LOR score of 3 are highest in number.\n",
    "* Large number of students have LOR score ranging between 3 to 4.\n",
    "* More than 50% of students have LOR scores of 3.5 and above."
   ]
  },
  {
   "cell_type": "code",
   "execution_count": 21,
   "id": "661329dd-8889-4c00-9a50-f505b3074a86",
   "metadata": {},
   "outputs": [
    {
     "data": {
      "application/vnd.jupyter.widget-view+json": {
       "model_id": "0bd63a98115245959176429cb89514dd",
       "version_major": 2,
       "version_minor": 0
      },
      "text/plain": [
       "A Jupyter widget with unique id: 0bd63a98115245959176429cb89514dd"
      ]
     },
     "execution_count": 21,
     "metadata": {},
     "output_type": "execute_result"
    }
   ],
   "source": [
    "HistPlot(\"Admission_Predict.csv\", \"CGPA\", \"CGPA Score Distribution\", 10, 6);\n",
    "auto img = xw::image_from_file(\"./plots/CGPA Score Distribution.png\").finalize();\n",
    "img"
   ]
  },
  {
   "cell_type": "markdown",
   "id": "823027fb-1ac6-42cc-aec4-7d73411f4528",
   "metadata": {},
   "source": [
    "* Large number of students have secured CGPA between 8.0 & 9.0.\n",
    "* More than 50% of students have CGPA of 8.5 and above."
   ]
  },
  {
   "cell_type": "code",
   "execution_count": 22,
   "id": "7ab95e19-283a-408f-b15c-220870488cf9",
   "metadata": {},
   "outputs": [
    {
     "data": {
      "application/vnd.jupyter.widget-view+json": {
       "model_id": "426f2e618cc24a13bfecb18b2ee53e79",
       "version_major": 2,
       "version_minor": 0
      },
      "text/plain": [
       "A Jupyter widget with unique id: 426f2e618cc24a13bfecb18b2ee53e79"
      ]
     },
     "execution_count": 22,
     "metadata": {},
     "output_type": "execute_result"
    }
   ],
   "source": [
    "CountPlot(\"Admission_Predict.csv\", \"Research\", \"\", \"Distribution of Researchers\", 6, 6);\n",
    "auto img = xw::image_from_file(\"./plots/Distribution of Researchers.png\").finalize();\n",
    "img"
   ]
  },
  {
   "cell_type": "markdown",
   "id": "8184ff2f-e1ca-4118-9fdf-70c8c493909d",
   "metadata": {},
   "source": [
    "* From the above fig we can infer most students did some kind of research. "
   ]
  },
  {
   "cell_type": "markdown",
   "id": "a98f3b64-224b-4e05-ba4a-f6c015013fae",
   "metadata": {},
   "source": [
    "### Bivariate Analysis"
   ]
  },
  {
   "cell_type": "code",
   "execution_count": null,
   "id": "03cea630-60f5-4580-ae47-97c71fd46974",
   "metadata": {},
   "outputs": [],
   "source": [
    "LmPlot(\"Admission_Predict.csv\", \"GRE Score\", \"Chance of Admit\", \"GRE Score vs Chance of Admit\");\n",
    "auto img = xw::image_from_file(\"./plots/GRE Score vs Chance of Admit.png\").finalize();\n",
    "img"
   ]
  },
  {
   "cell_type": "markdown",
   "id": "e405d95c-5c3c-4735-a441-25239be45427",
   "metadata": {},
   "source": [
    "* Higher the GRE score, higher the chance of getting admit.\n",
    "* From the above plot it is clear that most students tend to score above 310 in GRE. Maximum GRE scores are in range 320-340."
   ]
  },
  {
   "cell_type": "code",
   "execution_count": null,
   "id": "3be32f37-fff1-4f52-a5f4-8bb6e8315e82",
   "metadata": {},
   "outputs": [],
   "source": [
    "LmPlot(\"Admission_Predict.csv\", \"TOEFL Score\", \"Chance of Admit\", \"TOEFL Score vs Chance of Admit\");\n",
    "auto img = xw::image_from_file(\"./plots/TOEFL Score vs Chance of Admit.png\").finalize();\n",
    "img"
   ]
  },
  {
   "cell_type": "markdown",
   "id": "811b1995-1a4b-48b9-b6d9-5b275c5134b2",
   "metadata": {},
   "source": [
    "* High TOEFL score has a greater chance of getting admit."
   ]
  },
  {
   "cell_type": "code",
   "execution_count": null,
   "id": "35627049-6de1-4745-a409-9c64d4c319bd",
   "metadata": {},
   "outputs": [],
   "source": [
    "LinePlot(\"Admission_Predict.csv\", \"University Rating\", \"Chance of Admit\", \"Rating vs Admission\");\n",
    "auto img = xw::image_from_file(\"./plots/Rating vs Admission.png\").finalize();\n",
    "img"
   ]
  },
  {
   "cell_type": "markdown",
   "id": "0714e223-ad8c-4b37-bf42-edf6ee59e36c",
   "metadata": {},
   "source": [
    "Students from universitites rated 5 have a average of whopping 88.8% chances of admit whilst students from 1 rated universities have not a great value of 56.2 % chances."
   ]
  },
  {
   "cell_type": "code",
   "execution_count": null,
   "id": "27eb75cc-10d6-41ac-95da-21d217d8f192",
   "metadata": {},
   "outputs": [],
   "source": [
    "LmPlot(\"Admission_Predict.csv\", \"SOP\", \"Chance of Admit\", \"SOP vs Chance of Admit\");\n",
    "auto img = xw::image_from_file(\"./plots/SOP vs Chance of Admit.png\").finalize();\n",
    "img"
   ]
  },
  {
   "cell_type": "markdown",
   "id": "2fc58eb8-4d51-415a-ae9c-0bd237b7c4c5",
   "metadata": {},
   "source": [
    "* Students who have secured higher score for their Statement of Purpose (SOP), have an upper hand in getting an admit. "
   ]
  },
  {
   "cell_type": "code",
   "execution_count": null,
   "id": "f644e4b1-7d49-424c-8e19-429fc7322136",
   "metadata": {},
   "outputs": [],
   "source": [
    "LmPlot(\"Admission_Predict.csv\", \"LOR\", \"Chance of Admit\", \"LOR vs Chance of Admit\");\n",
    "auto img = xw::image_from_file(\"./plots/LOR vs Chance of Admit.png\").finalize();\n",
    "img"
   ]
  },
  {
   "cell_type": "markdown",
   "id": "7c27b400-0219-42a8-a2c4-3dafe173add5",
   "metadata": {},
   "source": [
    "* Students who have secured higher score for their Letter of Recommendation (LOR), have an upper hand in getting an admit."
   ]
  },
  {
   "cell_type": "code",
   "execution_count": null,
   "id": "7003d1ad-dcbf-47d8-8ec7-6cf7f049227f",
   "metadata": {},
   "outputs": [],
   "source": [
    "ScatterPlot(\"Admission_Predict.csv\", \"CGPA\", \"Chance of Admit\", \"\", \"\", \"\", \"\", \"\", \"\", \"CGPA vs Chance of Admit\");\n",
    "auto img = xw::image_from_file(\"./plots/CGPA vs Chance of Admit.png\").finalize();\n",
    "img"
   ]
  },
  {
   "cell_type": "markdown",
   "id": "fbc59dfa-b717-4ddc-b322-5f39a0b5a019",
   "metadata": {},
   "source": [
    "* Students with high CGPA are likely to get more chance of admit than those who scored low CGPA."
   ]
  },
  {
   "cell_type": "code",
   "execution_count": null,
   "id": "f7880f35-9e11-40aa-ab23-511c684d17d2",
   "metadata": {},
   "outputs": [],
   "source": [
    "ScatterPlot(\"Admission_Predict.csv\", \"University Rating\", \"CGPA\", \"\", \"\", \"\", \"\", \"\", \"\", \"University Rating vs CGPA\");\n",
    "auto img = xw::image_from_file(\"./plots/University Rating vs CGPA.png\").finalize();\n",
    "img"
   ]
  },
  {
   "cell_type": "markdown",
   "id": "75c61bd4-8696-4e6d-ab1a-14af446160b0",
   "metadata": {},
   "source": [
    "Ratings of university increase with the increase in the CGPA."
   ]
  },
  {
   "cell_type": "code",
   "execution_count": null,
   "id": "21fdac54-2d3b-4fdb-9144-bdbe3971a71a",
   "metadata": {},
   "outputs": [],
   "source": [
    "// Split the data into features (X) and target (y) variables, targets are the last row.\n",
    "arma::Row<size_t> targets = arma::conv_to<arma::Row<size_t>>::from(gradData.row(7) > 0.8);\n",
    "// Targets are dropped from the loaded matrix.\n",
    "gradData.shed_row(gradData.n_rows-1);"
   ]
  },
  {
   "cell_type": "markdown",
   "id": "53790d3d-361f-4589-93c8-d262eebb019e",
   "metadata": {},
   "source": [
    "### Train Test Split\n",
    "The dataset has to be split into training and test set. Here the dataset has 400 observations and the test ratio is taken as 25% of the total observations. This indicates that the test set should have 25% * 400 = 100 observations and training set should have 300 observations respectively."
   ]
  },
  {
   "cell_type": "code",
   "execution_count": null,
   "id": "3057bfbe-6b71-4f11-a136-fe5ace760e88",
   "metadata": {},
   "outputs": [],
   "source": [
    "// Split the dataset into train and test sets using mlpack.\n",
    "arma::mat Xtrain, Xtest;\n",
    "arma::Row<size_t> Ytrain, Ytest;\n",
    "Split(gradData, targets, Xtrain, Xtest, Ytrain, Ytest, 0.25);"
   ]
  },
  {
   "cell_type": "markdown",
   "id": "7f1bda6f-f569-4800-bc1b-f4f6834ffb91",
   "metadata": {},
   "source": [
    "### Training the AdaBoost Classifier model\n",
    "* Ensemble methods are meta-algorithms that combine several machine learning techniques into one predictive model in order to decrease variance (bagging), bias (boosting), or improve predictions (stacking)\n",
    "* AdaBoost is a boosting approach to machine learning based on the idea of creating a highly accurate prediction rule by combining many relatively weak an inaccurate rules."
   ]
  },
  {
   "cell_type": "code",
   "execution_count": null,
   "id": "f2c1efc4-0a90-45d0-aa81-f20d8cec02ef",
   "metadata": {},
   "outputs": [],
   "source": [
    "// Create a DecisionStump with two classes.\n",
    "ID3DecisionStump ds(Xtrain, Ytrain, 2);"
   ]
  },
  {
   "cell_type": "code",
   "execution_count": null,
   "id": "ec4fc24c-3e43-4bb3-a2bd-3b7d99f4c24e",
   "metadata": {},
   "outputs": [],
   "source": [
    "// Create and train an AdaBoost Classifier with DecisionStump as weak learner.\n",
    "AdaBoost<ID3DecisionStump> ab(Xtrain, Ytrain, 2, ds, 50, 1e-10);"
   ]
  },
  {
   "cell_type": "markdown",
   "id": "d6f7c4a7-c95c-409f-a50e-3def5af2e9d5",
   "metadata": {},
   "source": [
    "### Making Predictions on Test set"
   ]
  },
  {
   "cell_type": "code",
   "execution_count": null,
   "id": "30b4d903-74c0-4244-90c1-679c0c3c682e",
   "metadata": {},
   "outputs": [],
   "source": [
    "// Predict the values for test data using previously trained model as input.\n",
    "arma::Row<size_t> output;\n",
    "arma::mat probs;\n",
    "ab.Classify(Xtest, output, probs);"
   ]
  },
  {
   "cell_type": "code",
   "execution_count": null,
   "id": "3125f3ae-ebb8-4a74-bc9e-24300faa5808",
   "metadata": {},
   "outputs": [],
   "source": [
    "// Save predicted probabilities and ground truth as csv for generating ROC AUC curve.\n",
    "data::Save(\"./data/probabilities.csv\", probs);\n",
    "data::Save(\"./data/ytest.csv\", Ytest);"
   ]
  },
  {
   "cell_type": "markdown",
   "id": "4fdb8fc0-244d-484e-9200-ab9bb43d1f84",
   "metadata": {},
   "source": [
    "### Evaluation metrics\n",
    "\n",
    "* True Positive - The actual value was true & the model predicted true.\n",
    "* False Positive - The actual value was false & the model predicted true, Type I error.\n",
    "* True Negative - The actual value was false & the model predicted false.\n",
    "* False Negative - The actual value was true & the model predicted false, Type II error.\n",
    "\n",
    "`Accuracy`: is a metric that generally describes how the model performs across all classes. It is useful when all classes are of equal importance. It is calculated as the ratio between the number of correct predictions to the total number of predictions.\n",
    "\n",
    "$$Accuracy = \\frac{True_{positive} + True_{negative}}{True_{positive} + True_{negative} + False_{positive} + False_{negative}}$$\n",
    "\n",
    "`Precision`: is calculated as the ratio between the number of positive samples correctly classified to the total number of samples classified as Positive. The precision measures the model's accuracy in classifying a sample as positive.\n",
    "\n",
    "$$Precision = \\frac{True_{positive}}{True_{positive} + False_{positive}}$$\n",
    "\n",
    "`Recall`: is calulated as the ratio between the number of positive samples correctly classified as Positive to the total number of Positive samples. The recall measures the model's ability to detect Positive samples. The higher the recall, the more positive samples detected.\n",
    "\n",
    "$$Recall = \\frac{True_{positive}}{True_{positive} + False_{negative}}$$\n",
    "\n",
    "* The decision of whether to use precision or recall depends on the type of problem begin solved.\n",
    "* If the goal is to detect all positive samples then use recall.\n",
    "* Use precision if the problem is sensitive to classifying a sample as Positive in general.\n",
    "\n",
    "* ROC graph has the True Positive rate on the y axis and the False Positive rate on the x axis.\n",
    "* ROC Area under the curve in the graph is the primary metric to determine if the classifier is doing well, the higher the value the higher the model performance."
   ]
  },
  {
   "cell_type": "code",
   "execution_count": null,
   "id": "257b29ee-aee3-48cf-9f65-44e8c61e7ce0",
   "metadata": {},
   "outputs": [],
   "source": [
    "// Classification report.\n",
    "std::cout <<  \"Accuracy: \" << accuracy(output, Ytest) << std::endl;\n",
    "classification_report(output, Ytest);"
   ]
  },
  {
   "cell_type": "code",
   "execution_count": null,
   "id": "18d91607-47e1-4b23-a18c-08d449401d31",
   "metadata": {},
   "outputs": [],
   "source": [
    "// Plot ROC AUC Curve to visualize the performance of the model on TP & FP.\n",
    "RocAucPlot(\"./data/ytest.csv\", \"./data/probabilities.csv\", \"ROC AUC Curve\");\n",
    "auto img = xw::image_from_file(\"./plots/ROC AUC Curve.png\").finalize();\n",
    "img"
   ]
  },
  {
   "cell_type": "markdown",
   "id": "0c0e80e9-0bb4-4b82-b2ae-060c828eda20",
   "metadata": {},
   "source": [
    "### Conclusion\n",
    "From the above ROC AUC curve, we can infer that out AdaBoost model performs well on predicting student admissions. There is still room for improvement. Feel free to play around with the hyperparameters, split ratio, admission threshold etc."
   ]
  }
 ],
 "metadata": {
  "kernelspec": {
   "display_name": "C++14",
   "language": "C++14",
   "name": "xcpp14"
  },
  "language_info": {
   "codemirror_mode": "text/x-c++src",
   "file_extension": ".cpp",
   "mimetype": "text/x-c++src",
   "name": "c++",
   "version": "14"
  }
 },
 "nbformat": 4,
 "nbformat_minor": 5
}
