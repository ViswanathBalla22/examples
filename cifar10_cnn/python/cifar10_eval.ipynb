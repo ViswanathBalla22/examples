{
 "cells": [
  {
   "cell_type": "markdown",
   "id": "47129c1e-26e6-4916-b704-0ba00bf2f503",
   "metadata": {},
   "source": [
    "### CIFAR10 Classifer Evaluation\n",
    "In this notebook, we evaluate pre-trained **CNN** to classify images from the CIFAR-10 database.\n",
    "\n",
    "The images in this database are small color images that fall into one of ten classes; some example images are pictured below.\n",
    "\n",
    "<img src='notebook_ims/cifar_data.png' width=50% height=50% />"
   ]
  },
  {
   "cell_type": "code",
   "execution_count": 1,
   "id": "e8a6c7b4-45ed-4430-90bd-b98297ff8c3a",
   "metadata": {},
   "outputs": [],
   "source": [
    "!wget -q https://datasets.mlpack.org/cifar-10_test-1k.csv.gz"
   ]
  },
  {
   "cell_type": "code",
   "execution_count": 2,
   "id": "8239f0ea-51b9-4ac8-b1ea-4adb53103f4e",
   "metadata": {},
   "outputs": [
    {
     "name": "stdout",
     "output_type": "stream",
     "text": [
      "gzip: cifar-10_test-1k.csv already exists;\tnot overwritten\n"
     ]
    }
   ],
   "source": [
    "!gunzip -d cifar-10_test-1k.csv.gz"
   ]
  },
  {
   "cell_type": "code",
   "execution_count": 3,
   "id": "caba3ae8-001f-4ec9-883c-d4190f2ee8b4",
   "metadata": {},
   "outputs": [],
   "source": [
    "!wget -q https://datasets.mlpack.org/cifarNet.xml"
   ]
  },
  {
   "cell_type": "code",
   "execution_count": 4,
   "id": "c97a7239-e746-4614-959d-effa281a3d58",
   "metadata": {},
   "outputs": [],
   "source": [
    "// Import necessary library headers.\n",
    "#include <mlpack/xeus-cling.hpp>\n",
    "#define MLPACK_ENABLE_ANN_SERIALIZATION\n",
    "#include <mlpack.hpp>"
   ]
  },
  {
   "cell_type": "code",
   "execution_count": 5,
   "id": "07be2b79-ea94-4bc8-8dbc-db16399d7823",
   "metadata": {},
   "outputs": [],
   "source": [
    "using namespace mlpack;"
   ]
  },
  {
   "cell_type": "code",
   "execution_count": 6,
   "id": "f32adecb-6d46-4e21-8429-f1e42b54f7d6",
   "metadata": {},
   "outputs": [],
   "source": [
    "using namespace arma;"
   ]
  },
  {
   "cell_type": "code",
   "execution_count": 7,
   "id": "95a0d96b-0727-4665-9098-5a403728724a",
   "metadata": {},
   "outputs": [],
   "source": [
    "using namespace ens;"
   ]
  },
  {
   "cell_type": "code",
   "execution_count": 8,
   "id": "3f3a7912-31ec-478a-9b5a-41f58812874e",
   "metadata": {},
   "outputs": [],
   "source": [
    "arma::Row<size_t> getLabels(const arma::mat& yPreds) \n",
    "{\n",
    "    arma::Row<size_t> yLabels(yPreds.n_cols);\n",
    "    for (arma::uword i = 0; i < yPreds.n_cols; ++i)\n",
    "    {\n",
    "        yLabels(i) = yPreds.col(i).index_max();\n",
    "    }\n",
    "    return yLabels;\n",
    "}"
   ]
  },
  {
   "cell_type": "markdown",
   "id": "3f2a4573-218a-4f03-ad42-d881ea143686",
   "metadata": {},
   "source": [
    "### Network Architecture"
   ]
  },
  {
   "cell_type": "markdown",
   "id": "c732fdff-7532-4812-940f-4ffb022d57e0",
   "metadata": {},
   "source": [
    "Our Model using Convolutional Neural Network CNN architecture.\n",
    "* Convolutional layers - which can be thought of as stack of filtered images.\n",
    "* Maxpooling layers - which reduce the x-y size of an input, keeping only the most _active_ pixels from the previous layer.\n",
    "* Linear layer - Applies a linear transformation to the incoming data: $ y=xA^T+b $\n",
    "\n",
    "```\n",
    "32 x 32 x 3 --- conv (6 feature maps of kernel size 5 x 5 with stride = 1) ---> 28 x 28 x 6\n",
    "28 x 28 x 6 ------------------------ Leaky ReLU ------------------------------> 28 x 28 x 6 \n",
    "28 x 28 x 6 ------- max pooling (kernel size of 2 x 2 with stride = 2) -------> 14 x 14 x 6\n",
    "14 x 14 x 6 --- conv (16 feature maps of kernel size 5 x 5 and stride = 1) ---> 10 x 10 x 16\n",
    "10 x 10 x 16 ----------------------- Leaky ReLU ------------------------------> 10 x 10 x 16\n",
    "10 x 10 x 16 ------ max pooling (kernel size of 2 x 2 with stride = 2) -------> 5 x 5 x 16\n",
    "5 x 5 x 16  ------------------------- Linear ---------------------------------> 10\n",
    "```\n",
    "\n",
    "An example 2 convolutional layers is shown in the image below,\n",
    "\n",
    "<img src='notebook_ims/2_layer_conv.png' height=50% width=50% />"
   ]
  },
  {
   "cell_type": "code",
   "execution_count": 9,
   "id": "d92c9f56-8b09-46ef-9828-f60f4b7d1ce6",
   "metadata": {},
   "outputs": [],
   "source": [
    "// Create the Feed Forward Neural Network object, into which our\n",
    "// pretrained model will be loaded.\n",
    "//\n",
    "// It's not necessary to specify the model architecture, since that is\n",
    "// saved along with the model.  Nonetheless, for edification, we include\n",
    "// the architecture below (commented out).\n",
    "FFN<NegativeLogLikelihood, RandomInitialization> model;\n",
    "\n",
    "// model.Add<Convolution>(6, 5, 5, 1, 1, 0, 0); \n",
    "// model.Add<LeakyReLU>(); \n",
    "// model.Add<MaxPooling>(2, 2, 2, 2, true);\n",
    "// model.Add<Convolution>(16, 5, 5, 1, 1, 0, 0);\n",
    "// model.Add<LeakyReLU>();\n",
    "// model.Add<MaxPooling>(2, 2, 2, 2, true);\n",
    "// model.Add<Linear>(120);\n",
    "// model.Add<LeakyReLU>();\n",
    "// model.Add<Linear>(84);\n",
    "// model.Add<LeakyReLU>();\n",
    "// model.Add<Linear>(10);\n",
    "// model.Add<LogSoftMax>();"
   ]
  },
  {
   "cell_type": "markdown",
   "id": "5deb50da-8e55-4d51-8a05-34b61ac6f36d",
   "metadata": {},
   "source": [
    "###  Load the Model with the Lowest Validation Loss"
   ]
  },
  {
   "cell_type": "code",
   "execution_count": 10,
   "id": "f2ec67c1-a8a1-40ce-b884-25d97a071d69",
   "metadata": {},
   "outputs": [
    {
     "name": "stderr",
     "output_type": "stream",
     "text": [
      "\u001b[0;31m[FATAL] \u001b[0mXML Parsing failed - provided NVP (outputLayer) not found\n",
      "\n"
     ]
    },
    {
     "ename": "Standard Exception",
     "evalue": "fatal error; see Log::Fatal output",
     "output_type": "error",
     "traceback": [
      "Standard Exception: fatal error; see Log::Fatal output"
     ]
    }
   ],
   "source": [
    "mlpack::data::Load(\"cifarNet.xml\", \"model\", model, true);"
   ]
  },
  {
   "cell_type": "code",
   "execution_count": 12,
   "id": "b37b63e4-561a-4528-8db9-786336ff91cb",
   "metadata": {},
   "outputs": [],
   "source": [
    "// Matrix for storing test feeature & labels.\n",
    "mat testData, testY;\n",
    "// Load the test data.\n",
    "mlpack::data::Load(\"./cifar-10_test-1k.csv\", testData, true);\n",
    "// Drop the header column.\n",
    "testData.shed_col(0);\n",
    "// Remove labels before predicting.\n",
    "testY = testData.row(testData.n_rows - 1);\n",
    "testData.shed_row(testData.n_rows - 1);"
   ]
  },
  {
   "cell_type": "code",
   "execution_count": 13,
   "id": "0b23865a-f8c4-4d91-b0d6-e883fe48dd50",
   "metadata": {},
   "outputs": [
    {
     "name": "stdout",
     "output_type": "stream",
     "text": [
      "Starting Prediction on testset ...\n"
     ]
    },
    {
     "ename": "Standard Exception",
     "evalue": "FFN::Predict(): cannot use network with no layers!",
     "output_type": "error",
     "traceback": [
      "Standard Exception: FFN::Predict(): cannot use network with no layers!"
     ]
    }
   ],
   "source": [
    "cout << \"Starting Prediction on testset ...\" << endl;\n",
    "mat testPredProbs;\n",
    "// Get predictions on test data points.\n",
    "model.Predict(testData, testPredProbs);\n",
    "arma::Row<size_t> testPreds = getLabels(testPredProbs);\n",
    "double testAccuracy = arma::accu(testPreds == testY) / (double) testY.n_elem * 100;"
   ]
  },
  {
   "cell_type": "code",
   "execution_count": 14,
   "id": "5215dfb9-e047-4b8c-ad62-f79ff77b726c",
   "metadata": {},
   "outputs": [
    {
     "name": "stdout",
     "output_type": "stream",
     "text": [
      "Accuracy on testset = 0%\n"
     ]
    }
   ],
   "source": [
    "cout << \"Accuracy on testset = \" << testAccuracy << \"%\" << endl;"
   ]
  }
 ],
 "metadata": {
  "kernelspec": {
   "display_name": "C++14",
   "language": "C++14",
   "name": "xcpp14"
  },
  "language_info": {
   "codemirror_mode": "text/x-c++src",
   "file_extension": ".cpp",
   "mimetype": "text/x-c++src",
   "name": "c++",
   "version": "14"
  }
 },
 "nbformat": 4,
 "nbformat_minor": 5
}
