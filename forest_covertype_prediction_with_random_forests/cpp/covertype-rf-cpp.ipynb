{
 "cells": [
  {
   "cell_type": "markdown",
   "metadata": {},
   "source": [
    "[![Binder](https://mybinder.org/badge_logo.svg)](https://lab.mlpack.org/v2/gh/mlpack/examples/master?urlpath=lab%2Ftree%2Fforest_covertype_prediction_with_random_forests%2Fcovertype-rf-cpp.ipynb)"
   ]
  },
  {
   "cell_type": "code",
   "execution_count": 1,
   "metadata": {},
   "outputs": [],
   "source": [
    "/**\n",
    " * @file covertype-rf-cpp.ipynb\n",
    " *\n",
    " * Classification using Random Forest on the Covertype dataset.\n",
    " */"
   ]
  },
  {
   "cell_type": "code",
   "execution_count": 2,
   "metadata": {},
   "outputs": [],
   "source": [
    "!wget -O - https://datasets.mlpack.org/covertype-small.csv.gz | gunzip -c > covertype-small.csv"
   ]
  },
  {
   "cell_type": "code",
   "execution_count": 3,
   "metadata": {},
   "outputs": [],
   "source": [
    "#include <mlpack/xeus-cling.hpp>\n",
    "#include <mlpack.hpp>"
   ]
  },
  {
   "cell_type": "code",
   "execution_count": 4,
   "metadata": {},
   "outputs": [],
   "source": [
    "using namespace mlpack;"
   ]
  },
  {
   "cell_type": "code",
   "execution_count": 5,
   "metadata": {},
   "outputs": [],
   "source": [
    "// Load the dataset that we downloaded.\n",
    "arma::mat dataset;\n",
    "data::Load(\"covertype-small.csv\", dataset);"
   ]
  },
  {
   "cell_type": "code",
   "execution_count": 6,
   "metadata": {},
   "outputs": [],
   "source": [
    "// Labels are the last row.\n",
    "// The dataset stores labels from 1 through 7, but we need 0 through 6\n",
    "// (in mlpack labels are zero-indexed), so we subtract 1.\n",
    "arma::Row<size_t> labels =\n",
    "    arma::conv_to<arma::Row<size_t>>::from(dataset.row(dataset.n_rows - 1)) - 1;\n",
    "dataset.shed_row(dataset.n_rows - 1);"
   ]
  },
  {
   "cell_type": "code",
   "execution_count": 7,
   "metadata": {},
   "outputs": [],
   "source": [
    "arma::mat trainSet, testSet;\n",
    "arma::Row<size_t> trainLabels, testLabels;\n",
    "\n",
    "// Split dataset randomly into training set and test set.\n",
    "data::Split(dataset, labels, trainSet, testSet, trainLabels, testLabels,\n",
    "    0.3 /* Percentage of dataset to use for test set. */);"
   ]
  },
  {
   "cell_type": "code",
   "execution_count": 8,
   "metadata": {},
   "outputs": [],
   "source": [
    "RandomForest<> rf(trainSet, trainLabels, 7 /* Number of classes in dataset */,\n",
    "    10 /* 10 trees */);"
   ]
  },
  {
   "cell_type": "code",
   "execution_count": 9,
   "metadata": {},
   "outputs": [],
   "source": [
    "// Predict the labels of the test points.\n",
    "arma::Row<size_t> output;\n",
    "rf.Classify(testSet, output);"
   ]
  },
  {
   "cell_type": "code",
   "execution_count": 10,
   "metadata": {},
   "outputs": [
    {
     "name": "stdout",
     "output_type": "stream",
     "text": [
      "24747 correct out of 30000 (82.49%).\n"
     ]
    }
   ],
   "source": [
    "// Now print the accuracy. The 'probabilities' output could also be used to\n",
    "// generate an ROC curve.\n",
    "const size_t correct = arma::accu(output == testLabels);\n",
    "std::cout << correct\n",
    "          << \" correct out of \"\n",
    "          << testLabels.n_elem << \" (\"\n",
    "          << 100.0 * correct / testLabels.n_elem\n",
    "          << \"%).\" << std::endl;"
   ]
  }
 ],
 "metadata": {
  "kernelspec": {
   "display_name": "C++14",
   "language": "C++14",
   "name": "xcpp14"
  },
  "language_info": {
   "codemirror_mode": "text/x-c++src",
   "file_extension": ".cpp",
   "mimetype": "text/x-c++src",
   "name": "c++",
   "version": "14"
  }
 },
 "nbformat": 4,
 "nbformat_minor": 4
}
