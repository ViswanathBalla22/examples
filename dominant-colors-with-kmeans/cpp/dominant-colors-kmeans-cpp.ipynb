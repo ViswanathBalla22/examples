{
 "cells": [
  {
   "cell_type": "markdown",
   "metadata": {},
   "source": [
    "[![Binder](https://mybinder.org/badge_logo.svg)](https://lab.mlpack.org/v2/gh/mlpack/examples/master?urlpath=lab%2Ftree%2Fdominant-colors-with-kmeans%2Fdominant-colors-kmeans-cpp.ipynb)"
   ]
  },
  {
   "cell_type": "code",
   "execution_count": 1,
   "metadata": {},
   "outputs": [],
   "source": [
    "/**\n",
    " * @file dominant-colors-kmeans-cpp.ipynb\n",
    " *\n",
    " * A simple example usage of K-means clustering\n",
    " * to find the most dominant colors in an image.\n",
    " *\n",
    " * The dominant colors are colors that are represented\n",
    " * most in the image.\n",
    " */"
   ]
  },
  {
   "cell_type": "markdown",
   "metadata": {},
   "source": [
    "Download some example images."
   ]
  },
  {
   "cell_type": "code",
   "execution_count": 2,
   "metadata": {},
   "outputs": [],
   "source": [
    "!wget -q -O jurassic-park.png https://datasets.mlpack.org/jurassic-park.png"
   ]
  },
  {
   "cell_type": "code",
   "execution_count": 3,
   "metadata": {},
   "outputs": [],
   "source": [
    "!wget -q -O the-godfather.png https://datasets.mlpack.org/the-godfather.png"
   ]
  },
  {
   "cell_type": "code",
   "execution_count": 4,
   "metadata": {},
   "outputs": [],
   "source": [
    "!wget -q -O the-grand-budapest-hotel.png https://datasets.mlpack.org/the-grand-budapest-hotel.png"
   ]
  },
  {
   "cell_type": "code",
   "execution_count": 5,
   "metadata": {},
   "outputs": [],
   "source": [
    "#include <mlpack/xeus-cling.hpp>\n",
    "// Enable image load/save support.\n",
    "#define HAS_STB\n",
    "#include <mlpack.hpp>\n",
    "#include <sstream>"
   ]
  },
  {
   "cell_type": "code",
   "execution_count": 6,
   "metadata": {},
   "outputs": [],
   "source": [
    "// Header files to create and show images.\n",
    "#include \"xwidgets/ximage.hpp\"\n",
    "#include \"../utils/stackedbar.hpp\""
   ]
  },
  {
   "cell_type": "code",
   "execution_count": 7,
   "metadata": {},
   "outputs": [],
   "source": [
    "using namespace mlpack;"
   ]
  },
  {
   "cell_type": "code",
   "execution_count": 8,
   "metadata": {},
   "outputs": [],
   "source": [
    "// Before we apply K-means on an image we have to be aware that the RGB color space has some shortages. In fact, it's\n",
    "// tempting to simply compare the euclidean distance difference between the red, green, and blue aspects of an RGB.\n",
    "// Unfortunately RGB was intended for convenient use with electronic systems, so is not very similar to average human\n",
    "// perception. Applying K-means using the euclidean distance quickly reveals sporadic and often drastically different\n",
    "// results than one would expect of visually similar colors.  There are several ways to tackle the issue and to calculate\n",
    "// the perceived difference in color. The most popular method is known as CIE 1976, or more commonly just CIE76. This\n",
    "// method uses the Euclidean distance, however, the trick is to first convert to the CIE*Lab color space.\n",
    "\n",
    "// Function to convert RGB into CIE*Lab color space.\n",
    "void rgb2lab(const double R,\n",
    "             const double G,\n",
    "             const double B,\n",
    "             double& ls,\n",
    "             double& as,\n",
    "             double& bs )\n",
    "{\n",
    "    double varR = R / 255.0;\n",
    "    double varG = G / 255.0;\n",
    "    double varB = B / 255.0;\n",
    "\n",
    "    if (varR > 0.04045)\n",
    "        varR = std::pow(((varR + 0.055) / 1.055), 2.4 );\n",
    "    else\n",
    "        varR /= 12.92;\n",
    "\n",
    "    if (varG > 0.04045)\n",
    "        varG = std::pow(((varG + 0.055) / 1.055), 2.4);\n",
    "    else\n",
    "        varG /= 12.92;\n",
    "\n",
    "    if (varB > 0.04045)\n",
    "        varB = std::pow(((varB + 0.055 ) / 1.055), 2.4);\n",
    "    else\n",
    "        varB = varB / 12.92;\n",
    "\n",
    "    varR *= 100.;\n",
    "    varG *= 100.;\n",
    "    varB *= 100.;\n",
    "\n",
    "    double X = varR * 0.4124 + varG * 0.3576 + varB * 0.1805;\n",
    "    double Y = varR * 0.2126 + varG * 0.7152 + varB * 0.0722;\n",
    "    double Z = varR * 0.0193 + varG * 0.1192 + varB * 0.9505;\n",
    "\n",
    "    double varX = X / 95.047;\n",
    "    double varY = Y / 100.000;\n",
    "    double varZ = Z / 108.883;\n",
    "\n",
    "    if (varX > 0.008856)\n",
    "        varX = std::pow(varX, 1.0 / 3.0);\n",
    "    else\n",
    "        varX = (7.787 * varX) + (16.0 / 116.0);\n",
    "    \n",
    "    if (varY > 0.008856)\n",
    "        varY = std::pow(varY, 1.0 / 3.0);\n",
    "    else\n",
    "        varY = (7.787 * varY) + (16.0 / 116.0);\n",
    "    \n",
    "    if (varZ > 0.008856)\n",
    "        varZ = std::pow(varZ, 1.0 / 3.0);\n",
    "    else\n",
    "        varZ = (7.787 * varZ) + (16.0 / 116.0);\n",
    "\n",
    "    ls = (116.0 * varY) - 16.0;\n",
    "    as = 500.0 * (varX - varY);\n",
    "    bs = 200.0 * (varY - varZ);\n",
    "}"
   ]
  },
  {
   "cell_type": "code",
   "execution_count": 9,
   "metadata": {},
   "outputs": [],
   "source": [
    "// Function to convert CIE*Lab into RGB color space.\n",
    "void lab2rgb(const double ls,\n",
    "             const double as,\n",
    "             const double bs,\n",
    "             double& R,\n",
    "             double& G,\n",
    "             double& B )\n",
    "{\n",
    "    double varY = (ls + 16.0) / 116.0;\n",
    "    double varX = as / 500.0 + varY;\n",
    "    double varZ = varY - bs / 200.0;\n",
    "\n",
    "    if (std::pow(varY, 3.0) > 0.008856)\n",
    "        varY = std::pow(varY, 3.0);\n",
    "    else\n",
    "        varY = (varY - 16.0 / 116.0) / 7.787;\n",
    "    \n",
    "    if (std::pow(varX, 3.0) > 0.008856)\n",
    "        varX = std::pow(varX, 3.0);\n",
    "    else\n",
    "        varX = (varX - 16.0 / 116.0) / 7.787;\n",
    "    \n",
    "    if (std::pow(varZ, 3.0) > 0.008856)\n",
    "        varZ = std::pow(varZ, 3);\n",
    "    else\n",
    "        varZ = (varZ - 16.0 / 116.0) / 7.787;\n",
    "\n",
    "    double X = 95.047 * varX;\n",
    "    double Y = 100.000 * varY;\n",
    "    double Z = 108.883 * varZ;\n",
    "\n",
    "    varX = X / 100.0;\n",
    "    varY = Y / 100.0;\n",
    "    varZ = Z / 100.0;\n",
    "\n",
    "    double varR = varX * 3.2406 + varY * -1.5372 + varZ * -0.4986;\n",
    "    double varG = varX * -0.9689 + varY * 1.8758 + varZ * 0.0415;\n",
    "    double varB = varX * 0.0557 + varY * -0.2040 + varZ * 1.0570;\n",
    "\n",
    "    if (varR > 0.0031308)\n",
    "        varR = 1.055 * std::pow(varR, (1.0 / 2.4)) - 0.055;\n",
    "    else\n",
    "        varR *= 12.92;\n",
    "    \n",
    "    if (varG > 0.0031308)\n",
    "        varG = 1.055 * std::pow(varG, (1.0 / 2.4)) - 0.055;\n",
    "    else\n",
    "        varG *= 12.92;\n",
    "    if (varB > 0.0031308)\n",
    "        varB = 1.055 * std::pow(varB, (1.0 / 2.4)) - 0.055;\n",
    "    else\n",
    "        varB = 12.92 * varB;\n",
    "\n",
    "    R = varR * 255.0;\n",
    "    G = varG * 255.0;\n",
    "    B = varB * 255.0;\n",
    "}"
   ]
  },
  {
   "cell_type": "code",
   "execution_count": 10,
   "metadata": {},
   "outputs": [],
   "source": [
    "// Function to convert RGB matrix into CIE*Lab color space.\n",
    "void rgb2labMatrix(arma::mat& matrix)\n",
    "{\n",
    "    for (size_t i = 0; i < matrix.n_cols; ++i)\n",
    "    {\n",
    "        rgb2lab(matrix.col(i)(0),\n",
    "                matrix.col(i)(1),\n",
    "                matrix.col(i)(2),\n",
    "                matrix.col(i)(0),\n",
    "                matrix.col(i)(1),\n",
    "                matrix.col(i)(2));\n",
    "    }\n",
    "}"
   ]
  },
  {
   "cell_type": "code",
   "execution_count": 11,
   "metadata": {},
   "outputs": [],
   "source": [
    "// Function to convert CIE*Lab matrix into RGB color space.\n",
    "void lab2rgbMatrix(arma::mat& matrix)\n",
    "{\n",
    "    for (size_t i = 0; i < matrix.n_cols; ++i)\n",
    "    {\n",
    "        lab2rgb(matrix.col(i)(0),\n",
    "                matrix.col(i)(1),\n",
    "                matrix.col(i)(2),\n",
    "                matrix.col(i)(0),\n",
    "                matrix.col(i)(1),\n",
    "                matrix.col(i)(2));\n",
    "    }\n",
    "}"
   ]
  },
  {
   "cell_type": "code",
   "execution_count": 12,
   "metadata": {},
   "outputs": [],
   "source": [
    "// Helper function to create the color string from the K-means centroids.\n",
    "void GetColorBarData(std::string& values,\n",
    "                     std::string& colors,\n",
    "                     const size_t cluster,\n",
    "                     const arma::Row<size_t>& assignments,\n",
    "                     const arma::mat& centroids)\n",
    "{\n",
    "    arma::uvec h = arma::histc(arma::conv_to<arma::vec>::from(assignments), arma::linspace<arma::vec>(0, cluster - 1, cluster));\n",
    "    arma::uvec indices = arma::sort_index(h);\n",
    "\n",
    "    std::stringstream valuesString;\n",
    "    std::stringstream colorsString;\n",
    "    for (size_t i = 0; i < indices.n_elem; ++i)\n",
    "    {\n",
    "        colorsString << (int)centroids.col(indices(i))(0) << \";\"\n",
    "                     << (int)centroids.col(indices(i))(1) << \";\"\n",
    "                     << (int)centroids.col(indices(i))(2) << \";\";\n",
    "\n",
    "        valuesString << h(indices(i)) << \";\";\n",
    "    }\n",
    "    \n",
    "    values = valuesString.str();\n",
    "    colors = colorsString.str();\n",
    "}"
   ]
  },
  {
   "cell_type": "code",
   "execution_count": 13,
   "metadata": {},
   "outputs": [],
   "source": [
    "// Load the example image.\n",
    "arma::Mat<unsigned char> imageMatrix;\n",
    "data::ImageInfo info;\n",
    "data::Load(\"jurassic-park.png\", imageMatrix, info, false);"
   ]
  },
  {
   "cell_type": "code",
   "execution_count": 14,
   "metadata": {},
   "outputs": [
    {
     "name": "stdout",
     "output_type": "stream",
     "text": [
      "Image info - Width:600 Height: 450 Channels: 3\n"
     ]
    }
   ],
   "source": [
    "// Print the image shape.\n",
    "std::cout << \"Image info -\"\n",
    "          << \" Width:\" << info.Width()\n",
    "          << \" Height: \" << info.Height()\n",
    "          << \" Channels: \" << info.Channels() << std::endl;"
   ]
  },
  {
   "cell_type": "code",
   "execution_count": 15,
   "metadata": {},
   "outputs": [],
   "source": [
    "// Each column of the image matrix contains an image that\n",
    "// is vectorized in the format of [R, G, B, R, G, B, ..., R, G, B].\n",
    "// Here we transform the image data into the expected format:\n",
    "// [[R, G, B],\n",
    "//  [R, G, B],\n",
    "//  ...\n",
    "//  [R, G, B]]\n",
    "arma::mat imageData = arma::conv_to<arma::mat>::from(\n",
    "    arma::reshape(imageMatrix, info.Channels(), imageMatrix.n_elem / 3));\n",
    "\n",
    "// Remove the alpha channel if the image comes with one.\n",
    "if (info.Channels() > 3)\n",
    "    imageData.shed_row(3);\n",
    "\n",
    "// Convert from RGB to CIE*Lab color space.\n",
    "rgb2labMatrix(imageData);"
   ]
  },
  {
   "cell_type": "code",
   "execution_count": 16,
   "metadata": {},
   "outputs": [],
   "source": [
    "// Perform K-means clustering using the Euclidean distance.\n",
    "//\n",
    "// For more information checkout https://mlpack.org/doc/stable/doxygen/classmlpack_1_1kmeans_1_1KMeans.html\n",
    "// or uncomment the line below.\n",
    "// ?KMeans<>\n",
    "\n",
    "// The assignments will be stored in this vector.\n",
    "arma::Row<size_t> assignments;\n",
    "\n",
    "// The centroids will be stored in this matrix.\n",
    "arma::mat centroids;\n",
    "\n",
    "// The number of clusters we are getting (colors).\n",
    "// For the image we like the see the first 5 dominate colors.\n",
    "size_t cluster = 5;\n",
    "\n",
    "// Initialize with the default arguments.\n",
    "KMeans<> kmeans;\n",
    "kmeans.Cluster(imageData, cluster, assignments, centroids);\n",
    "\n",
    "// Convert back from CIE*Lab to RGB color space to plot the result.\n",
    "lab2rgbMatrix(centroids);"
   ]
  },
  {
   "cell_type": "code",
   "execution_count": 17,
   "metadata": {},
   "outputs": [
    {
     "data": {
      "application/vnd.jupyter.widget-view+json": {
       "model_id": "9749727c76dd479db764ab3d3feedceb",
       "version_major": 2,
       "version_minor": 0
      },
      "text/plain": [
       "A Jupyter widget with unique id: 9749727c76dd479db764ab3d3feedceb"
      ]
     },
     "execution_count": 17,
     "metadata": {},
     "output_type": "execute_result"
    }
   ],
   "source": [
    "// Show the input image.\n",
    "auto im = xw::image_from_file(\"jurassic-park.png\").finalize();\n",
    "im"
   ]
  },
  {
   "cell_type": "code",
   "execution_count": 18,
   "metadata": {},
   "outputs": [
    {
     "data": {
      "application/vnd.jupyter.widget-view+json": {
       "model_id": "b9be2ffe28314ab5950b4c0a351a15cb",
       "version_major": 2,
       "version_minor": 0
      },
      "text/plain": [
       "A Jupyter widget with unique id: b9be2ffe28314ab5950b4c0a351a15cb"
      ]
     },
     "execution_count": 18,
     "metadata": {},
     "output_type": "execute_result"
    }
   ],
   "source": [
    "// Create color bar data using the centroids matrix and assignments vector.\n",
    "// In our case which the centroids matrix contains the dominant colors in\n",
    "// RGB color space, and the assignments vector contains the associated\n",
    "// dominant color for each pixel in the image.\n",
    "std::string values, colors;\n",
    "GetColorBarData(values, colors, cluster, assignments, centroids);\n",
    "\n",
    "// Show the dominant colors.\n",
    "StackedBar(values, colors, \"jurassic-park-colors.png\");\n",
    "auto im = xw::image_from_file(\"jurassic-park-colors.png\").finalize();\n",
    "im"
   ]
  },
  {
   "cell_type": "code",
   "execution_count": 19,
   "metadata": {},
   "outputs": [],
   "source": [
    "// Load the example image.\n",
    "arma::Mat<unsigned char> imageMatrix;\n",
    "data::ImageInfo info;\n",
    "data::Load(\"the-godfather.png\", imageMatrix, info, false);"
   ]
  },
  {
   "cell_type": "code",
   "execution_count": 20,
   "metadata": {},
   "outputs": [
    {
     "name": "stdout",
     "output_type": "stream",
     "text": [
      "Image info - Width:376 Height: 500 Channels: 3\n"
     ]
    }
   ],
   "source": [
    "// Print the image shape.\n",
    "std::cout << \"Image info -\"\n",
    "          << \" Width:\" << info.Width()\n",
    "          << \" Height: \" << info.Height()\n",
    "          << \" Channels: \" << info.Channels() << std::endl;"
   ]
  },
  {
   "cell_type": "code",
   "execution_count": 21,
   "metadata": {},
   "outputs": [],
   "source": [
    "// Each column of the image matrix contains an image that\n",
    "// is vectorized in the format of [R, G, B, R, G, B, ..., R, G, B].\n",
    "// Here we transform the image data into the expected format:\n",
    "// [[R, G, B],\n",
    "//  [R, G, B],\n",
    "//  ...\n",
    "//  [R, G, B]]\n",
    "arma::mat imageData = arma::conv_to<arma::mat>::from(\n",
    "    arma::reshape(imageMatrix, info.Channels(), imageMatrix.n_elem / 3));\n",
    "\n",
    "// Remove the alpha channel if the image comes with one.\n",
    "if (info.Channels() > 3)\n",
    "    imageData.shed_row(3);\n",
    "\n",
    "// Convert from RGB to CIE*Lab color space.\n",
    "rgb2labMatrix(imageData);"
   ]
  },
  {
   "cell_type": "code",
   "execution_count": 22,
   "metadata": {},
   "outputs": [],
   "source": [
    "// Perform K-means clustering using the Euclidean distance.\n",
    "//\n",
    "// For more information checkout https://mlpack.org/doc/stable/doxygen/classmlpack_1_1kmeans_1_1KMeans.html\n",
    "// or uncomment the line below.\n",
    "// ?KMeans<>\n",
    "\n",
    "// The assignments will be stored in this vector.\n",
    "arma::Row<size_t> assignments;\n",
    "\n",
    "// The centroids will be stored in this matrix.\n",
    "arma::mat centroids;\n",
    "\n",
    "// The number of clusters we are getting (colors).\n",
    "// For the image we like the see the first 4 dominate colors.\n",
    "size_t cluster = 4;\n",
    "\n",
    "// Initialize with the default arguments.\n",
    "KMeans<> kmeans;\n",
    "kmeans.Cluster(imageData, cluster, assignments, centroids);\n",
    "\n",
    "// Convert back from CIE*Lab to RGB color space to plot the result.\n",
    "lab2rgbMatrix(centroids);"
   ]
  },
  {
   "cell_type": "code",
   "execution_count": 23,
   "metadata": {},
   "outputs": [
    {
     "data": {
      "application/vnd.jupyter.widget-view+json": {
       "model_id": "1f6e996f8e8c431a823cbe287e0d95a7",
       "version_major": 2,
       "version_minor": 0
      },
      "text/plain": [
       "A Jupyter widget with unique id: 1f6e996f8e8c431a823cbe287e0d95a7"
      ]
     },
     "execution_count": 23,
     "metadata": {},
     "output_type": "execute_result"
    }
   ],
   "source": [
    "// Show the input image.\n",
    "auto im = xw::image_from_file(\"the-godfather.png\").finalize();\n",
    "im"
   ]
  },
  {
   "cell_type": "code",
   "execution_count": 24,
   "metadata": {},
   "outputs": [
    {
     "data": {
      "application/vnd.jupyter.widget-view+json": {
       "model_id": "e5665e18c30749c7acc1504d5a61381f",
       "version_major": 2,
       "version_minor": 0
      },
      "text/plain": [
       "A Jupyter widget with unique id: e5665e18c30749c7acc1504d5a61381f"
      ]
     },
     "execution_count": 24,
     "metadata": {},
     "output_type": "execute_result"
    }
   ],
   "source": [
    "// Create color bar data using the centroids matrix and assignments vector.\n",
    "// In our case which the centroids matrix contains the dominant colors in\n",
    "// RGB color space, and the assignments vector contains the associated\n",
    "// dominant color for each pixel in the image.\n",
    "std::string values, colors;\n",
    "GetColorBarData(values, colors, cluster, assignments, centroids);\n",
    "\n",
    "// Show the dominant colors.\n",
    "StackedBar(values, colors, \"the-godfather-colors.png\");\n",
    "auto im = xw::image_from_file(\"the-godfather-colors.png\").finalize();//\n",
    "im"
   ]
  },
  {
   "cell_type": "code",
   "execution_count": 25,
   "metadata": {},
   "outputs": [],
   "source": [
    "// Load the example image.\n",
    "arma::Mat<unsigned char> imageMatrix;\n",
    "data::ImageInfo info;\n",
    "data::Load(\"the-grand-budapest-hotel.png\", imageMatrix, info, false);"
   ]
  },
  {
   "cell_type": "code",
   "execution_count": 26,
   "metadata": {},
   "outputs": [
    {
     "name": "stdout",
     "output_type": "stream",
     "text": [
      "Image info - Width:913 Height: 475 Channels: 3\n"
     ]
    }
   ],
   "source": [
    "// Print the image shape.\n",
    "std::cout << \"Image info -\"\n",
    "          << \" Width:\" << info.Width()\n",
    "          << \" Height: \" << info.Height()\n",
    "          << \" Channels: \" << info.Channels() << std::endl;"
   ]
  },
  {
   "cell_type": "code",
   "execution_count": 27,
   "metadata": {},
   "outputs": [],
   "source": [
    "// Each column of the image matrix contains an image that\n",
    "// is vectorized in the format of [R, G, B, R, G, B, ..., R, G, B].\n",
    "// Here we transform the image data into the expected format:\n",
    "// [[R, G, B],\n",
    "//  [R, G, B],\n",
    "//  ...\n",
    "//  [R, G, B]]\n",
    "arma::mat imageData = arma::conv_to<arma::mat>::from(\n",
    "    arma::reshape(imageMatrix, info.Channels(), imageMatrix.n_elem / 3));\n",
    "\n",
    "// Remove the alpha channel if the image comes with one.\n",
    "if (info.Channels() > 3)\n",
    "    imageData.shed_row(3);\n",
    "\n",
    "// Convert from RGB to CIE*Lab color space.\n",
    "rgb2labMatrix(imageData);"
   ]
  },
  {
   "cell_type": "code",
   "execution_count": 28,
   "metadata": {},
   "outputs": [],
   "source": [
    "// Perform K-means clustering using the Euclidean distance.\n",
    "//\n",
    "// For more information checkout https://mlpack.org/doc/stable/doxygen/classmlpack_1_1kmeans_1_1KMeans.html\n",
    "// or uncomment the line below.\n",
    "// ?KMeans<>\n",
    "\n",
    "// The assignments will be stored in this vector.\n",
    "arma::Row<size_t> assignments;\n",
    "\n",
    "// The centroids will be stored in this matrix.\n",
    "arma::mat centroids;\n",
    "\n",
    "// The number of clusters we are getting (colors).\n",
    "// For the image we like the see the first 4 dominate colors.\n",
    "size_t cluster = 4;\n",
    "\n",
    "// Initialize with the default arguments.\n",
    "KMeans<> kmeans;\n",
    "kmeans.Cluster(imageData, cluster, assignments, centroids);\n",
    "\n",
    "// Convert back from CIE*Lab to RGB color space to plot the result.\n",
    "lab2rgbMatrix(centroids);"
   ]
  },
  {
   "cell_type": "code",
   "execution_count": 29,
   "metadata": {},
   "outputs": [
    {
     "data": {
      "application/vnd.jupyter.widget-view+json": {
       "model_id": "d2458ef6cb7e4ca08183dea30e472e64",
       "version_major": 2,
       "version_minor": 0
      },
      "text/plain": [
       "A Jupyter widget with unique id: d2458ef6cb7e4ca08183dea30e472e64"
      ]
     },
     "execution_count": 29,
     "metadata": {},
     "output_type": "execute_result"
    }
   ],
   "source": [
    "// Show the input image.\n",
    "auto im = xw::image_from_file(\"the-grand-budapest-hotel.png\").finalize();\n",
    "im"
   ]
  },
  {
   "cell_type": "code",
   "execution_count": 30,
   "metadata": {},
   "outputs": [
    {
     "data": {
      "application/vnd.jupyter.widget-view+json": {
       "model_id": "9c3cbdd4aae649f6a533aff949824482",
       "version_major": 2,
       "version_minor": 0
      },
      "text/plain": [
       "A Jupyter widget with unique id: 9c3cbdd4aae649f6a533aff949824482"
      ]
     },
     "execution_count": 30,
     "metadata": {},
     "output_type": "execute_result"
    }
   ],
   "source": [
    "// Create color bar data using the centroids matrix and assignments vector.\n",
    "// In our case which the centroids matrix contains the dominant colors in\n",
    "// RGB color space, and the assignments vector contains the associated\n",
    "// dominant color for each pixel in the image.\n",
    "std::string values, colors;\n",
    "GetColorBarData(values, colors, cluster, assignments, centroids);\n",
    "StackedBar(values, colors, \"the-grand-budapest-hotel-colors.png\");\n",
    "\n",
    "// Show the dominant colors.\n",
    "auto im = xw::image_from_file(\"the-grand-budapest-hotel-colors.png\").finalize();\n",
    "im"
   ]
  }
 ],
 "metadata": {
  "kernelspec": {
   "display_name": "C++14",
   "language": "C++14",
   "name": "xcpp14"
  },
  "language_info": {
   "codemirror_mode": "text/x-c++src",
   "file_extension": ".cpp",
   "mimetype": "text/x-c++src",
   "name": "c++",
   "version": "14"
  }
 },
 "nbformat": 4,
 "nbformat_minor": 4
}
