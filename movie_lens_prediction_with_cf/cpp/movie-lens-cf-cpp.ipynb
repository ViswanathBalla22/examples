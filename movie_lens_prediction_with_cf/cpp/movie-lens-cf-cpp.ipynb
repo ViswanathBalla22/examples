{
 "cells": [
  {
   "cell_type": "markdown",
   "metadata": {},
   "source": [
    "[![Binder](https://mybinder.org/badge_logo.svg)](https://lab.mlpack.org/v2/gh/mlpack/examples/master?urlpath=lab%2Ftree%2Fmovie_lens_prediction_with_cf%2Fmovie-lens-cf-cpp.ipynb)"
   ]
  },
  {
   "cell_type": "code",
   "execution_count": 1,
   "metadata": {},
   "outputs": [],
   "source": [
    "/**\n",
    " * @file movie-lens-cf-cpp.ipynb\n",
    " *\n",
    " * A simple example usage of Collaborative Filtering (CF)\n",
    " * applied to the MovieLens dataset.\n",
    " * \n",
    " * https://grouplens.org/datasets/movielens/\n",
    " */"
   ]
  },
  {
   "cell_type": "code",
   "execution_count": 2,
   "metadata": {},
   "outputs": [
    {
     "name": "stdout",
     "output_type": "stream",
     "text": [
      "Archive:  tmp.zip\n",
      "   creating: ml-latest-small/\n",
      "  inflating: ml-latest-small/links.csv  \n",
      "  inflating: ml-latest-small/tags.csv  \n",
      "  inflating: ml-latest-small/ratings.csv  \n",
      "  inflating: ml-latest-small/README.txt  \n",
      "  inflating: ml-latest-small/movies.csv  \n"
     ]
    }
   ],
   "source": [
    "!rm -rf ml-latest-small && wget -q -O tmp.zip https://datasets.mlpack.org/MovieLens-small.zip && unzip tmp.zip && rm tmp.zip"
   ]
  },
  {
   "cell_type": "code",
   "execution_count": 3,
   "metadata": {},
   "outputs": [],
   "source": [
    "#include <mlpack/xeus-cling.hpp>\n",
    "#include <mlpack.hpp>"
   ]
  },
  {
   "cell_type": "code",
   "execution_count": 4,
   "metadata": {},
   "outputs": [],
   "source": [
    "// Header files to create and show the plot.\n",
    "#define WITHOUT_NUMPY 1\n",
    "#include \"matplotlibcpp.h\"\n",
    "#include \"xwidgets/ximage.hpp\"\n",
    "#include \"../utils/wordcloud.hpp\"\n",
    "\n",
    "namespace plt = matplotlibcpp;"
   ]
  },
  {
   "cell_type": "code",
   "execution_count": 5,
   "metadata": {},
   "outputs": [],
   "source": [
    "using namespace mlpack;"
   ]
  },
  {
   "cell_type": "code",
   "execution_count": 6,
   "metadata": {},
   "outputs": [],
   "source": [
    "/**\n",
    " * The MovieLens dataset contains a set of movie ratings from the MovieLens website,\n",
    " * a movie recommendation service. This dataset was collected and maintained by\n",
    " * GroupLens, a research group at the University of Minnesota.\n",
    " *\n",
    " * There are 5 versions included: \"25m\", \"latest-small\", \"100k\", \"1m\", \"20m\".\n",
    " *\n",
    " * In this example, we are working on the \"latest-small\" dataset,\n",
    " * which is a small subset of the latest version of the MovieLens dataset.\n",
    " * It is changed and updated over time by GroupLens.\n",
    " *\n",
    " * The dataset has 100,000 ratings and 3,600 tag applications applied\n",
    " * to 9,000 movies by 600 users.\n",
    " */\n",
    "\n",
    "// Load ratings file.\n",
    "arma::mat ratings;\n",
    "data::Load(\"ml-latest-small/ratings.csv\", ratings);\n",
    "// Ignore the timestamp column and the header.\n",
    "ratings = ratings.submat(0, 1, ratings.n_rows - 2, ratings.n_cols - 1);\n",
    "\n",
    "// Load movies file.\n",
    "std::vector<size_t> moviesId;\n",
    "std::vector<std::string> moviesTitle;\n",
    "std::vector<std::string> moviesGenres;\n",
    "\n",
    "std::ifstream moviesFile(\"ml-latest-small/movies.csv\");\n",
    "std::string line;\n",
    "size_t lineNum = 0;\n",
    "while (getline(moviesFile, line))\n",
    "{\n",
    "    std::stringstream linestream(line);\n",
    "    std::string value;\n",
    "    \n",
    "    size_t valueNum = 0;\n",
    "    while (getline(linestream, value, ','))\n",
    "    {\n",
    "        if (lineNum > 0 && valueNum == 0)\n",
    "            moviesId.push_back(std::stoi(value));\n",
    "        else if (lineNum > 0 && valueNum == 1)\n",
    "            moviesTitle.push_back(value);\n",
    "        else if (lineNum > 0 && valueNum == 2)\n",
    "            moviesGenres.push_back(value);\n",
    "        \n",
    "        valueNum++;\n",
    "    }\n",
    "    \n",
    "    lineNum++;\n",
    "}"
   ]
  },
  {
   "cell_type": "code",
   "execution_count": 7,
   "metadata": {},
   "outputs": [
    {
     "name": "stdout",
     "output_type": "stream",
     "text": [
      "   userId       movieId      rating\n",
      "   1.0000e+00   3.0000e+00   4.0000e+00\n",
      "   1.0000e+00   6.0000e+00   4.0000e+00\n",
      "   1.0000e+00   4.7000e+01   5.0000e+00\n",
      "   1.0000e+00   5.0000e+01   5.0000e+00\n",
      "   1.0000e+00   7.0000e+01   3.0000e+00\n",
      "   1.0000e+00   1.0100e+02   5.0000e+00\n",
      "   1.0000e+00   1.1000e+02   4.0000e+00\n",
      "   1.0000e+00   1.5100e+02   5.0000e+00\n",
      "   1.0000e+00   1.5700e+02   5.0000e+00\n",
      "   1.0000e+00   1.6300e+02   5.0000e+00\n"
     ]
    }
   ],
   "source": [
    "// Print the first 10 rows of the ratings data.\n",
    "std::cout << \"   userId       movieId      rating\\n\";\n",
    "ratings.cols(0, 9).t().print()"
   ]
  },
  {
   "cell_type": "markdown",
   "metadata": {},
   "source": [
    "We can see that user 1 has rated the movie with the id 1, 3 and 6 with a rating of 4.0;\n",
    "rated the movies with the id's 47, 50, 101, 151 and 157 with a 5.0 and rated the movie\n",
    "with the id 70 with 3.0."
   ]
  },
  {
   "cell_type": "code",
   "execution_count": 8,
   "metadata": {},
   "outputs": [
    {
     "name": "stdout",
     "output_type": "stream",
     "text": [
      "id        title                                   genres\n",
      "1         Toy Story (1995)                        Adventure|Animation|Children|Comedy|Fantasy\n",
      "2         Jumanji (1995)                          Adventure|Children|Fantasy\n",
      "3         Grumpier Old Men (1995)                 Comedy|Romance\n",
      "4         Waiting to Exhale (1995)                Comedy|Drama|Romance\n",
      "5         Father of the Bride Part II (1995)      Comedy\n",
      "6         Heat (1995)                             Action|Crime|Thriller\n",
      "7         Sabrina (1995)                          Comedy|Romance\n",
      "8         Tom and Huck (1995)                     Adventure|Children\n",
      "9         Sudden Death (1995)                     Action\n",
      "10        GoldenEye (1995)                        Action|Adventure|Thriller\n"
     ]
    }
   ],
   "source": [
    "// Print the first 10 rows of the movies data.\n",
    "std::cout << std::left << std::setw(10) << \"id\" << std::setw(40) << \"title\" << \"genres\" << std::endl;\n",
    "for (size_t i = 0; i < 10; ++i)\n",
    "{\n",
    "    std::cout << std::left << std::setw(10)\n",
    "              << moviesId[i]\n",
    "              << std::setw(40)\n",
    "              << moviesTitle[i]\n",
    "              << moviesGenres[i] << std::endl;\n",
    "}"
   ]
  },
  {
   "cell_type": "markdown",
   "metadata": {},
   "source": [
    "This dataset contains attributes of the 9700 movies.\n",
    "There are 3 columns including the movie ID, their titles, and their genres.\n",
    "Genres are separated and selected from 18 genres (Action, Adventure, Animation,\n",
    "Children's, Comedy, Crime, Documentary, Drama, Fantasy, Film-Noir, Horror,\n",
    "Musical, Mystery, Romance, Sci-Fi, Thriller, War, Western)."
   ]
  },
  {
   "cell_type": "code",
   "execution_count": 9,
   "metadata": {},
   "outputs": [
    {
     "data": {
      "application/vnd.jupyter.widget-view+json": {
       "model_id": "92b3a9bea4de4632808be6551580b77b",
       "version_major": 2,
       "version_minor": 0
      },
      "text/plain": [
       "A Jupyter widget with unique id: 92b3a9bea4de4632808be6551580b77b"
      ]
     },
     "execution_count": 9,
     "metadata": {},
     "output_type": "execute_result"
    }
   ],
   "source": [
    "// Create a wordcloud of the movie titles.\n",
    "std::string moveTitleCloudString = \"\";\n",
    "for (size_t s = 0; s < moviesTitle.size(); ++s)\n",
    "    moveTitleCloudString += moviesTitle[s] + \";\";\n",
    "\n",
    "WordCloud(moveTitleCloudString, \"movie-title-word-cloud.png\", 400, 1000);\n",
    "auto im = xw::image_from_file(\"movie-title-word-cloud.png\").finalize();\n",
    "im"
   ]
  },
  {
   "cell_type": "markdown",
   "metadata": {},
   "source": [
    "The, Man, Love, Dead, Day are among the most commonly occuring words in movie titles."
   ]
  },
  {
   "cell_type": "code",
   "execution_count": 10,
   "metadata": {},
   "outputs": [
    {
     "data": {
      "application/vnd.jupyter.widget-view+json": {
       "model_id": "6ee292e7c2de484cb65fc413a4142be1",
       "version_major": 2,
       "version_minor": 0
      },
      "text/plain": [
       "A Jupyter widget with unique id: 6ee292e7c2de484cb65fc413a4142be1"
      ]
     },
     "execution_count": 10,
     "metadata": {},
     "output_type": "execute_result"
    }
   ],
   "source": [
    "// Create a wordcloud of the movie genres.\n",
    "std::string movieGenresCloudString = \"\";\n",
    "for (size_t g = 0; g < moviesGenres.size(); ++g)\n",
    "    movieGenresCloudString += moviesGenres[g] + \";\";\n",
    "\n",
    "// Replace all '|' to ', since that's\n",
    "// what the WordCloud method uses as delimiter.\n",
    "std::replace(movieGenresCloudString.begin(),\n",
    "             movieGenresCloudString.end(), '|', ';');\n",
    "\n",
    "WordCloud(movieGenresCloudString, \"movie-genres-word-cloud.png\", 400, 1000);\n",
    "auto im = xw::image_from_file(\"movie-genres-word-cloud.png\").finalize();\n",
    "im"
   ]
  },
  {
   "cell_type": "markdown",
   "metadata": {},
   "source": [
    "Drama, Comedy and Action are among the most commonly occuring movie genres."
   ]
  },
  {
   "cell_type": "code",
   "execution_count": 11,
   "metadata": {},
   "outputs": [
    {
     "name": "stdout",
     "output_type": "stream",
     "text": [
      "count     100835\n",
      "mean      3.50155\n",
      "std       1.04253\n",
      "min       0.5\n",
      "max       5\n",
      "range     4.5\n"
     ]
    }
   ],
   "source": [
    "// Get summary statistics of the ratings.\n",
    "std::cout << std::setw(10) << \"count\" << ratings.n_cols << std::endl;\n",
    "std::cout << std::setw(10) << \"mean\" << arma::mean(ratings.row(2)) << std::endl;\n",
    "std::cout << std::setw(10) << \"std\" << arma::stddev(ratings.row(2)) << std::endl;\n",
    "std::cout << std::setw(10) << \"min\" << arma::min(ratings.row(2)) << std::endl;\n",
    "std::cout << std::setw(10) << \"max\" << arma::max(ratings.row(2)) << std::endl;\n",
    "std::cout << std::setw(10) << \"range\" << arma::range(ratings.row(2)) << std::endl;"
   ]
  },
  {
   "cell_type": "code",
   "execution_count": 12,
   "metadata": {},
   "outputs": [
    {
     "data": {
      "application/vnd.jupyter.widget-view+json": {
       "model_id": "77430366744d41e7b1eb8391bbf139dc",
       "version_major": 2,
       "version_minor": 0
      },
      "text/plain": [
       "A Jupyter widget with unique id: 77430366744d41e7b1eb8391bbf139dc"
      ]
     },
     "execution_count": 12,
     "metadata": {},
     "output_type": "execute_result"
    }
   ],
   "source": [
    "// Plot ratings histogram.\n",
    "std::vector<double> hist = arma::conv_to<std::vector<double>>::from(ratings.row(2).t());\n",
    "\n",
    "plt::figure_size(400, 400);\n",
    "plt::xlabel(\"ratings\");\n",
    "plt::hist(hist);\n",
    "\n",
    "plt::save(\"./hist.png\");\n",
    "auto im = xw::image_from_file(\"hist.png\").finalize();\n",
    "im"
   ]
  },
  {
   "cell_type": "markdown",
   "metadata": {},
   "source": [
    "The mean rating is 3.5 on a scale of 5. Half the movies have a rating of 3 and 4."
   ]
  },
  {
   "cell_type": "code",
   "execution_count": 13,
   "metadata": {},
   "outputs": [],
   "source": [
    "// Hold out 10% of the dataset into a test set so we can evaluate performance.\n",
    "arma::mat ratingsTrain, ratingsTest;\n",
    "data::Split(ratings, ratingsTrain, ratingsTest, 0.1);"
   ]
  },
  {
   "cell_type": "code",
   "execution_count": 14,
   "metadata": {},
   "outputs": [],
   "source": [
    "// Train the model. Change the rank to increase/decrease the complexity\n",
    "// of the model.\n",
    "\n",
    "// Note: batch size is 1 in our implementation of Regularized SVD.\n",
    "// A batch size other than 1 has not been supported yet.\n",
    "CFType<RegSVDPolicy> cfModel(ratingsTrain);"
   ]
  },
  {
   "cell_type": "code",
   "execution_count": 15,
   "metadata": {},
   "outputs": [],
   "source": [
    "// Now query the 10 top movies for user 2.\n",
    "arma::Mat<size_t> recommendations;\n",
    "cfModel.GetRecommendations(10, recommendations, {2});"
   ]
  },
  {
   "cell_type": "code",
   "execution_count": 16,
   "metadata": {},
   "outputs": [
    {
     "name": "stdout",
     "output_type": "stream",
     "text": [
      "Recommendations for user 2:\n",
      "  0:  \"Truly\n",
      "  1:  Babylon 5\n",
      "  2:  \"New World\n",
      "  3:  \"Assassination of Jesse James by the Coward Robert Ford\n",
      "  4:  Trekkies (1997)\n",
      "  5:  Go Fish (1994)\n",
      "  6:  \"Last Detail\n",
      "  7:  Dallas Buyers Club (2013)\n",
      "  8:  \"Mod Squad\n",
      "  9:  \"Impostors\n"
     ]
    }
   ],
   "source": [
    "// Get the names of the movies for user 2.\n",
    "std::cout << \"Recommendations for user 2:\" << std::endl;\n",
    "for (size_t i = 0; i < recommendations.n_elem; ++i)\n",
    "{\n",
    "    std::vector<size_t>::iterator it = std::find(moviesId.begin(),\n",
    "        moviesId.end(), (size_t)recommendations[i]);\n",
    "    size_t index = std::distance(moviesId.begin(), it);\n",
    "\n",
    "    std::cout << \"  \" << i << \":  \" << moviesTitle[index] << std::endl;\n",
    "}"
   ]
  },
  {
   "cell_type": "code",
   "execution_count": 17,
   "metadata": {},
   "outputs": [
    {
     "name": "stdout",
     "output_type": "stream",
     "text": [
      "Ratings for user 2:\n",
      "  0:  3.0  - \"Shawshank Redemption\n",
      "  1:  4.0  - Tommy Boy (1995)\n",
      "  2:  4.5  - Good Will Hunting (1997)\n",
      "  3:  4.0  - Gladiator (2000)\n",
      "  4:  4.0  - Kill Bill: Vol. 1 (2003)\n",
      "  5:  3.5  - Collateral (2004)\n",
      "  6:  4.0  - Talladega Nights: The Ballad of Ricky Bobby (2006)\n",
      "  7:  4.0  - \"Departed\n",
      "  8:  4.5  - \"Dark Knight\n",
      "  9:  5.0  - Step Brothers (2008)\n",
      "  10:  4.5  - Inglourious Basterds (2009)\n",
      "  11:  3.0  - Zombieland (2009)\n",
      "  12:  4.0  - Shutter Island (2010)\n",
      "  13:  3.0  - Exit Through the Gift Shop (2010)\n",
      "  14:  4.0  - Inception (2010)\n",
      "  15:  4.5  - \"Town\n",
      "  16:  5.0  - Inside Job (2010)\n",
      "  17:  4.0  - Louis C.K.: Hilarious (2010)\n",
      "  18:  5.0  - Warrior (2011)\n",
      "  19:  3.5  - \"Dark Knight Rises\n",
      "  20:  2.5  - \"Girl with the Dragon Tattoo\n",
      "  21:  3.5  - Django Unchained (2012)\n",
      "  22:  5.0  - \"Wolf of Wall Street\n",
      "  23:  3.0  - Interstellar (2014)\n",
      "  24:  4.0  - Whiplash (2014)\n",
      "  25:  2.0  - The Drop (2014)\n",
      "  26:  3.5  - Ex Machina (2015)\n",
      "  27:  5.0  - Mad Max: Fury Road (2015)\n",
      "  28:  5.0  - The Jinx: The Life and Deaths of Robert Durst (2015)\n"
     ]
    }
   ],
   "source": [
    "// Print the movie ratings for user 2 from the dataset.\n",
    "std::cout << \"Ratings for user 2:\" << std::endl;\n",
    "for (size_t i = 0, r = 0; i < ratings.n_cols; ++i)\n",
    "{\n",
    "    if ((size_t)ratings.col(i)(0) == 2)\n",
    "    {\n",
    "        std::vector<size_t>::iterator it = std::find(moviesId.begin(),\n",
    "            moviesId.end(), (size_t)ratings.col(i)(1));\n",
    "        size_t index = std::distance(moviesId.begin(), it);\n",
    "\n",
    "        std::cout << \"  \" << r++ << \":  \"\n",
    "                  << std::fixed << std::setprecision(1)\n",
    "                  << ratings.col(i)(2)\n",
    "                  << \"  - \" << moviesTitle[index] << std::endl;\n",
    "    }\n",
    "}"
   ]
  },
  {
   "cell_type": "markdown",
   "metadata": {},
   "source": [
    "Here is some example output, showing that user 2 seems to have an interesting taste in movies."
   ]
  }
 ],
 "metadata": {
  "kernelspec": {
   "display_name": "C++14",
   "language": "C++14",
   "name": "xcpp14"
  },
  "language_info": {
   "codemirror_mode": "text/x-c++src",
   "file_extension": ".cpp",
   "mimetype": "text/x-c++src",
   "name": "c++",
   "version": "14"
  }
 },
 "nbformat": 4,
 "nbformat_minor": 4
}
