{
 "cells": [
  {
   "cell_type": "markdown",
   "metadata": {},
   "source": [
    "[![Binder](https://mybinder.org/badge_logo.svg)](https://lab.mlpack.org/v2/gh/mlpack/examples/master?urlpath=lab%2Ftree%2Fcifar10_transformation_with_pca%2Fcifar-10-pca-cpp.ipynb)"
   ]
  },
  {
   "cell_type": "code",
   "execution_count": 1,
   "metadata": {},
   "outputs": [],
   "source": [
    "/**\n",
    " * @file cifar-10-pca-cpp.ipynb\n",
    " *\n",
    " * A simple example usage of Principal Component Analysis (PCA)\n",
    " * applied to the CIFAR-10 dataset.\n",
    " * \n",
    " * https://www.cs.toronto.edu/~kriz/cifar.html\n",
    " */"
   ]
  },
  {
   "cell_type": "code",
   "execution_count": 2,
   "metadata": {},
   "outputs": [],
   "source": [
    "!wget -O - https://datasets.mlpack.org/cifar10-images.tar.gz | tar -xz"
   ]
  },
  {
   "cell_type": "code",
   "execution_count": 3,
   "metadata": {},
   "outputs": [],
   "source": [
    "#include <mlpack/xeus-cling.hpp>\n",
    "\n",
    "// Enable image load/save support.\n",
    "#define HAS_STB\n",
    "#include <mlpack.hpp>"
   ]
  },
  {
   "cell_type": "code",
   "execution_count": 4,
   "metadata": {},
   "outputs": [],
   "source": [
    "// Header file to list files.\n",
    "#include <boost/filesystem.hpp>\n",
    "\n",
    "// Header files to create and show the plot.\n",
    "#define WITHOUT_NUMPY 1\n",
    "#include \"matplotlibcpp.h\"\n",
    "#include \"xwidgets/ximage.hpp\"\n",
    "\n",
    "namespace plt = matplotlibcpp;"
   ]
  },
  {
   "cell_type": "code",
   "execution_count": 5,
   "metadata": {},
   "outputs": [],
   "source": [
    "using namespace mlpack;"
   ]
  },
  {
   "cell_type": "code",
   "execution_count": 6,
   "metadata": {},
   "outputs": [],
   "source": [
    "// Function that returns all images and labels for the specified path.\n",
    "void GetImageData(const std::string& path,\n",
    "                  std::vector<std::string>& imagesPath,\n",
    "                  std::vector<std::string>& imageLabels)\n",
    "{\n",
    "    boost::filesystem::path dir(path);\n",
    "\n",
    "    std::string label;\n",
    "    for (auto i = boost::filesystem::recursive_directory_iterator(dir);\n",
    "         i != boost::filesystem::recursive_directory_iterator(); i++)\n",
    "    {\n",
    "        // Discard directories.\n",
    "        if (boost::filesystem::is_regular_file(i->path()) &&\n",
    "            i->path().extension() == \".png\" &&\n",
    "            i->path().filename().string()[0] != '.')\n",
    "        {\n",
    "            imagesPath.push_back(i->path().string());\n",
    "            imageLabels.push_back(label);\n",
    "        }\n",
    "        else if (i->path().filename().string()[0] != '.')\n",
    "        {\n",
    "            label = i->path().filename().string();\n",
    "        }\n",
    "    }\n",
    "}\n",
    "\n",
    "// Create two list one that holds the path for each image in the training\n",
    "// set and another one that holds the corresponding labels.\n",
    "std::vector<std::string> trainImagesPath;\n",
    "std::vector<std::string> trainLabels;\n",
    "GetImageData(\"cifar10-images/train/\", trainImagesPath, trainLabels);\n",
    "\n",
    "// Create two list one that holds the path for each image in the testing\n",
    "// set and another one that holds the corresponding labels.\n",
    "std::vector<std::string> testImagesPath;\n",
    "std::vector<std::string> testLabels;\n",
    "GetImageData(\"cifar10-images/test/\", testImagesPath, testLabels);"
   ]
  },
  {
   "cell_type": "code",
   "execution_count": 7,
   "metadata": {},
   "outputs": [
    {
     "name": "stdout",
     "output_type": "stream",
     "text": [
      "Image info - Width:32 Height: 32 Channels: 3\n"
     ]
    }
   ],
   "source": [
    "// Print the image shape of the first image from the testing data.\n",
    "arma::Mat<unsigned char> imageMatrix;\n",
    "data::ImageInfo info;\n",
    "data::Load(testImagesPath[0], imageMatrix, info, false);\n",
    "\n",
    "std::cout << \"Image info -\"\n",
    "          << \" Width:\" << info.Width()\n",
    "          << \" Height: \" << info.Height()\n",
    "          << \" Channels: \" << info.Channels() << std::endl;"
   ]
  },
  {
   "cell_type": "code",
   "execution_count": 8,
   "metadata": {},
   "outputs": [
    {
     "name": "stdout",
     "output_type": "stream",
     "text": [
      "Ship\n"
     ]
    },
    {
     "data": {
      "application/vnd.jupyter.widget-view+json": {
       "model_id": "7406669984a841bcb562b07a918768d5",
       "version_major": 2,
       "version_minor": 0
      },
      "text/plain": [
       "A Jupyter widget with unique id: 7406669984a841bcb562b07a918768d5"
      ]
     },
     "execution_count": 8,
     "metadata": {},
     "output_type": "execute_result"
    }
   ],
   "source": [
    "// Display image number 0 from the training data.\n",
    "auto im = xw::image_from_file(trainImagesPath[0]).finalize();\n",
    "im.layout().height = \"300px\";\n",
    "std::cout << trainLabels[0] << std::endl;\n",
    "im"
   ]
  },
  {
   "cell_type": "code",
   "execution_count": 9,
   "metadata": {},
   "outputs": [
    {
     "name": "stdout",
     "output_type": "stream",
     "text": [
      "Airplane\n"
     ]
    },
    {
     "data": {
      "application/vnd.jupyter.widget-view+json": {
       "model_id": "9b1864eaabe04a63a827d26b6c80fdfb",
       "version_major": 2,
       "version_minor": 0
      },
      "text/plain": [
       "A Jupyter widget with unique id: 9b1864eaabe04a63a827d26b6c80fdfb"
      ]
     },
     "execution_count": 9,
     "metadata": {},
     "output_type": "execute_result"
    }
   ],
   "source": [
    "// Display image number 2000 from the testing data.\n",
    "auto im = xw::image_from_file(testImagesPath[2000]).finalize();\n",
    "im.layout().height = \"300px\";\n",
    "std::cout << testLabels[2000] << std::endl;\n",
    "im"
   ]
  },
  {
   "cell_type": "code",
   "execution_count": 10,
   "metadata": {},
   "outputs": [
    {
     "name": "stdout",
     "output_type": "stream",
     "text": [
      "10000 images loaded.\n"
     ]
    }
   ],
   "source": [
    "// Load all images from the test set into a matrix.\n",
    "arma::mat testImageMatrix;\n",
    "data::Load(testImagesPath, testImageMatrix, info, false);\n",
    "\n",
    "std::cout << testImageMatrix.n_cols << \" images loaded.\" << std::endl;"
   ]
  },
  {
   "cell_type": "code",
   "execution_count": 11,
   "metadata": {},
   "outputs": [],
   "source": [
    "// Perform Principal Components Analysis using the randomized method.\n",
    "// Other decomposition methods are 'exact', 'randomized-block-krylov', 'quic'.\n",
    "PCA<RandomizedSVDPCAPolicy> pca(true);\n",
    "pca.Apply(testImageMatrix, 2);"
   ]
  },
  {
   "cell_type": "code",
   "execution_count": 12,
   "metadata": {},
   "outputs": [
    {
     "name": "stdout",
     "output_type": "stream",
     "text": [
      "  -11.6535   -7.6918\n",
      "   -9.6573   22.0176\n",
      "  -19.8365   32.2234\n",
      "   -9.5599   26.2747\n",
      "  -12.5666   30.4451\n",
      "   -0.6294   24.4946\n",
      "    1.7515    7.6705\n",
      "    1.5629   37.9217\n",
      "   53.1375   -8.3463\n",
      "  -25.6683    1.4449\n",
      "   28.5553    0.6114\n",
      "\n"
     ]
    }
   ],
   "source": [
    "// Print the first ten columns of the transformed input.\n",
    "std::cout << testImageMatrix.cols(0, 10).t() << std::endl;"
   ]
  },
  {
   "cell_type": "code",
   "execution_count": 13,
   "metadata": {},
   "outputs": [],
   "source": [
    "// Helper function to get the label indices.\n",
    "arma::uvec getIndices(const std::vector<std::string>& labels, const std::string& label)\n",
    "{\n",
    "    std::vector<arma::uword> index;\n",
    "    for (size_t i = 0; i < labels.size(); ++i)\n",
    "    {\n",
    "        if (labels[i] == label)\n",
    "            index.push_back(i);\n",
    "    }\n",
    "    \n",
    "    arma::uvec indicesVec = arma::uvec(index);\n",
    "    return indicesVec;\n",
    "}"
   ]
  },
  {
   "cell_type": "code",
   "execution_count": 14,
   "metadata": {},
   "outputs": [
    {
     "data": {
      "application/vnd.jupyter.widget-view+json": {
       "model_id": "e788056bc9b14df3b7ce5d518f21974a",
       "version_major": 2,
       "version_minor": 0
      },
      "text/plain": [
       "A Jupyter widget with unique id: e788056bc9b14df3b7ce5d518f21974a"
      ]
     },
     "execution_count": 14,
     "metadata": {},
     "output_type": "execute_result"
    }
   ],
   "source": [
    "// Plot the transformed input.\n",
    "\n",
    "// CIFAR-10 labels.\n",
    "std::vector<std::string> labels({\"Airplane\", \"Automobile\", \"Bird\",\n",
    "                                 \"Cat\", \"Deer\", \"Dog\", \"Frog\",\n",
    "                                 \"Horse\", \"Ship\", \"Truck\"});\n",
    "plt::figure_size(800, 800);\n",
    "\n",
    "for (size_t i = 0; i < labels.size(); ++i)\n",
    "{\n",
    "    // Get the indices for the label 'Airplane'.\n",
    "    arma::mat dataset = testImageMatrix.cols(getIndices(testLabels, labels[i]));\n",
    "    \n",
    "    // Get the data for the indices.\n",
    "    std::vector<double> x = arma::conv_to<std::vector<double>>::from(dataset.row(0));\n",
    "    std::vector<double> y = arma::conv_to<std::vector<double>>::from(dataset.row(1));\n",
    "    \n",
    "    // Set the label for the legend.\n",
    "    std::map<std::string, std::string> m;\n",
    "    m.insert(std::pair<std::string, std::string>(\"label\", labels[i]));\n",
    "    \n",
    "    plt::scatter(x, y, 10, m);\n",
    "}\n",
    "\n",
    "plt::xlabel(\"Principal Component - 1\");\n",
    "plt::ylabel(\"Principal Component - 2\");\n",
    "plt::title(\"Projection of CIFAR-10 dataset onto first two principal components\");\n",
    "plt::legend();\n",
    "\n",
    "plt::save(\"./plot.png\");\n",
    "auto im = xw::image_from_file(\"plot.png\").finalize();\n",
    "im"
   ]
  },
  {
   "cell_type": "markdown",
   "metadata": {},
   "source": [
    "We can observe some structure in the plot above, samples belonging to the same class are close to each other;\n",
    "images that are different like a Truck and a Horse are further away. We can also observe that the\n",
    "first two principal components aren't sufficient for separating the classes."
   ]
  }
 ],
 "metadata": {
  "kernelspec": {
   "display_name": "C++14",
   "language": "C++14",
   "name": "xcpp14"
  },
  "language_info": {
   "codemirror_mode": "text/x-c++src",
   "file_extension": ".cpp",
   "mimetype": "text/x-c++src",
   "name": "c++",
   "version": "14"
  }
 },
 "nbformat": 4,
 "nbformat_minor": 4
}
